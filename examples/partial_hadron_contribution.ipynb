Python 2.7.13 |Anaconda custom (x86_64)| (default, Dec 20 2016, 23:05:08) 
Type "copyright", "credits" or "license" for more information.

IPython 5.3.0 -- An enhanced Interactive Python.
?         -> Introduction and overview of IPython's features.
%quickref -> Quick reference.
help      -> Python's own help system.
object?   -> Details about 'object', use 'object??' for extra details.

In [1]: [0;36m  File [0;32m"<ipython-input-1-d9bed3b7e151>"[0;36m, line [0;32m1[0m
[0;31m    {[0m
[0m     ^[0m
[0;31mSyntaxError[0m[0;31m:[0m unexpected EOF while parsing


In [2]: [0;36m  File [0;32m"<ipython-input-2-5394b6f51ef3>"[0;36m, line [0;32m1[0m
[0;31m    "cells": [[0m
[0m           ^[0m
[0;31mSyntaxError[0m[0;31m:[0m invalid syntax


In [3]: [0;36m  File [0;32m"<ipython-input-3-d9bed3b7e151>"[0;36m, line [0;32m1[0m
[0;31m    {[0m
[0m     ^[0m
[0;31mSyntaxError[0m[0;31m:[0m unexpected EOF while parsing


In [4]: [0;36m  File [0;32m"<ipython-input-4-d502cba02db2>"[0;36m, line [0;32m1[0m
[0;31m    "cell_type": "markdown",[0m
[0m               ^[0m
[0;31mSyntaxError[0m[0;31m:[0m invalid syntax


In [5]: [0;36m  File [0;32m"<ipython-input-5-0f9e64771858>"[0;36m, line [0;32m1[0m
[0;31m    "metadata": {},[0m
[0m              ^[0m
[0;31mSyntaxError[0m[0;31m:[0m invalid syntax


In [6]: [0;36m  File [0;32m"<ipython-input-6-1379479f1eba>"[0;36m, line [0;32m1[0m
[0;31m    "source": [[0m
[0m            ^[0m
[0;31mSyntaxError[0m[0;31m:[0m invalid syntax


In [7]: Out[7]: ('Determination of partial contributions of hadrons\n',)

In [8]: Out[8]: ('-------------------------------------------------\n',)

In [9]: Out[9]: ('\n',)

In [10]: Out[10]: 'This notebook reproduces Figure 9 from the proceedings arXiv:1503.00544.  '

In [11]: [0;36m  File [0;32m"<ipython-input-11-f75d1ecd2fcd>"[0;36m, line [0;32m1[0m
[0;31m    ][0m
[0m    ^[0m
[0;31mSyntaxError[0m[0;31m:[0m invalid syntax


In [12]: [0;36m  File [0;32m"<ipython-input-12-ac0737f6bd75>"[0;36m, line [0;32m1[0m
[0;31m    },[0m
[0m    ^[0m
[0;31mSyntaxError[0m[0;31m:[0m invalid syntax


In [13]: [0;36m  File [0;32m"<ipython-input-13-d9bed3b7e151>"[0;36m, line [0;32m1[0m
[0;31m    {[0m
[0m     ^[0m
[0;31mSyntaxError[0m[0;31m:[0m unexpected EOF while parsing


In [14]: [0;36m  File [0;32m"<ipython-input-14-eb187baea13f>"[0;36m, line [0;32m1[0m
[0;31m    "cell_type": "code",[0m
[0m               ^[0m
[0;31mSyntaxError[0m[0;31m:[0m invalid syntax


In [15]: [0;36m  File [0;32m"<ipython-input-15-8efe70dd8e2d>"[0;36m, line [0;32m1[0m
[0;31m    "execution_count": 1,[0m
[0m                     ^[0m
[0;31mSyntaxError[0m[0;31m:[0m invalid syntax


In [16]: [0;36m  File [0;32m"<ipython-input-16-08afc63cd5df>"[0;36m, line [0;32m1[0m
[0;31m    "metadata": {[0m
[0m              ^[0m
[0;31mSyntaxError[0m[0;31m:[0m invalid syntax


In [17]: [0;36m  File [0;32m"<ipython-input-17-cb3f48315de0>"[0;36m, line [0;32m1[0m
[0;31m    "collapsed": true[0m
[0m               ^[0m
[0;31mSyntaxError[0m[0;31m:[0m invalid syntax


In [18]: [0;36m  File [0;32m"<ipython-input-18-ac0737f6bd75>"[0;36m, line [0;32m1[0m
[0;31m    },[0m
[0m    ^[0m
[0;31mSyntaxError[0m[0;31m:[0m invalid syntax


In [19]: [0;36m  File [0;32m"<ipython-input-19-f4582426444f>"[0;36m, line [0;32m1[0m
[0;31m    "outputs": [],[0m
[0m             ^[0m
[0;31mSyntaxError[0m[0;31m:[0m invalid syntax


In [20]: [0;36m  File [0;32m"<ipython-input-20-1379479f1eba>"[0;36m, line [0;32m1[0m
[0;31m    "source": [[0m
[0m            ^[0m
[0;31mSyntaxError[0m[0;31m:[0m invalid syntax


In [21]: Out[21]: ('#basic imports and ipython setup\n',)

In [22]: Out[22]: ('%load_ext autoreload\n',)

In [23]: Out[23]: ('%matplotlib inline\n',)

In [24]: Out[24]: ('%autoreload 2\n',)

In [25]: Out[25]: ('import os\n',)

In [26]: Out[26]: ('import matplotlib.pyplot as plt\n',)

In [27]: Out[27]: ('import numpy as np\n',)

In [28]: Out[28]: ("os.chdir('..')\n",)

In [29]: Out[29]: ('\n',)

In [30]: Out[30]: ('#import solver related modules\n',)

In [31]: Out[31]: ('from MCEq.core import MCEqRun\n',)

In [32]: Out[32]: ('from mceq_config import config, dbg\n',)

In [33]: Out[33]: ('#import primary model choices\n',)

In [34]: Out[34]: 'import CRFluxModels as pm'

In [35]: [0;36m  File [0;32m"<ipython-input-35-f75d1ecd2fcd>"[0;36m, line [0;32m1[0m
[0;31m    ][0m
[0m    ^[0m
[0;31mSyntaxError[0m[0;31m:[0m invalid syntax


In [36]: [0;36m  File [0;32m"<ipython-input-36-ac0737f6bd75>"[0;36m, line [0;32m1[0m
[0;31m    },[0m
[0m    ^[0m
[0;31mSyntaxError[0m[0;31m:[0m invalid syntax


In [37]: [0;36m  File [0;32m"<ipython-input-37-d9bed3b7e151>"[0;36m, line [0;32m1[0m
[0;31m    {[0m
[0m     ^[0m
[0;31mSyntaxError[0m[0;31m:[0m unexpected EOF while parsing


In [38]: [0;36m  File [0;32m"<ipython-input-38-eb187baea13f>"[0;36m, line [0;32m1[0m
[0;31m    "cell_type": "code",[0m
[0m               ^[0m
[0;31mSyntaxError[0m[0;31m:[0m invalid syntax


In [39]: [0;36m  File [0;32m"<ipython-input-39-1fae4438be74>"[0;36m, line [0;32m1[0m
[0;31m    "execution_count": 2,[0m
[0m                     ^[0m
[0;31mSyntaxError[0m[0;31m:[0m invalid syntax


In [40]: [0;36m  File [0;32m"<ipython-input-40-08afc63cd5df>"[0;36m, line [0;32m1[0m
[0;31m    "metadata": {[0m
[0m              ^[0m
[0;31mSyntaxError[0m[0;31m:[0m invalid syntax


In [41]: [0;36m  File [0;32m"<ipython-input-41-cb3f48315de0>"[0;36m, line [0;32m1[0m
[0;31m    "collapsed": true[0m
[0m               ^[0m
[0;31mSyntaxError[0m[0;31m:[0m invalid syntax


In [42]: [0;36m  File [0;32m"<ipython-input-42-ac0737f6bd75>"[0;36m, line [0;32m1[0m
[0;31m    },[0m
[0m    ^[0m
[0;31mSyntaxError[0m[0;31m:[0m invalid syntax


In [43]: [0;36m  File [0;32m"<ipython-input-43-f4582426444f>"[0;36m, line [0;32m1[0m
[0;31m    "outputs": [],[0m
[0m             ^[0m
[0;31mSyntaxError[0m[0;31m:[0m invalid syntax


In [44]: [0;36m  File [0;32m"<ipython-input-44-1379479f1eba>"[0;36m, line [0;32m1[0m
[0;31m    "source": [[0m
[0m            ^[0m
[0;31mSyntaxError[0m[0;31m:[0m invalid syntax


In [45]: Out[45]: ('config["compact_mode"] = False\n',)

In [46]: Out[46]: ('config["low_energy_extension"]["enabled"] = True\n',)

In [47]: Out[47]: ('config["kernel_config"] = "CUDA"\n',)

In [48]: Out[48]: ('config["FP_precision"] = 32\n',)

In [49]: Out[49]: 'dbg = 3'

In [50]: [0;36m  File [0;32m"<ipython-input-50-f75d1ecd2fcd>"[0;36m, line [0;32m1[0m
[0;31m    ][0m
[0m    ^[0m
[0;31mSyntaxError[0m[0;31m:[0m invalid syntax


In [51]: [0;36m  File [0;32m"<ipython-input-51-ac0737f6bd75>"[0;36m, line [0;32m1[0m
[0;31m    },[0m
[0m    ^[0m
[0;31mSyntaxError[0m[0;31m:[0m invalid syntax


In [52]: [0;36m  File [0;32m"<ipython-input-52-d9bed3b7e151>"[0;36m, line [0;32m1[0m
[0;31m    {[0m
[0m     ^[0m
[0;31mSyntaxError[0m[0;31m:[0m unexpected EOF while parsing


In [53]: [0;36m  File [0;32m"<ipython-input-53-eb187baea13f>"[0;36m, line [0;32m1[0m
[0;31m    "cell_type": "code",[0m
[0m               ^[0m
[0;31mSyntaxError[0m[0;31m:[0m invalid syntax


In [54]: [0;36m  File [0;32m"<ipython-input-54-a517abfd3acc>"[0;36m, line [0;32m1[0m
[0;31m    "execution_count": 3,[0m
[0m                     ^[0m
[0;31mSyntaxError[0m[0;31m:[0m invalid syntax


In [55]: [0;36m  File [0;32m"<ipython-input-55-0f9e64771858>"[0;36m, line [0;32m1[0m
[0;31m    "metadata": {},[0m
[0m              ^[0m
[0;31mSyntaxError[0m[0;31m:[0m invalid syntax


In [56]: [0;36m  File [0;32m"<ipython-input-56-b317a7411d2f>"[0;36m, line [0;32m1[0m
[0;31m    "outputs": [[0m
[0m             ^[0m
[0;31mSyntaxError[0m[0;31m:[0m invalid syntax


In [57]: [0;36m  File [0;32m"<ipython-input-57-d9bed3b7e151>"[0;36m, line [0;32m1[0m
[0;31m    {[0m
[0m     ^[0m
[0;31mSyntaxError[0m[0;31m:[0m unexpected EOF while parsing


In [58]: [0;36m  File [0;32m"<ipython-input-58-0cef57bfeabd>"[0;36m, line [0;32m1[0m
[0;31m    "name": "stdout",[0m
[0m          ^[0m
[0;31mSyntaxError[0m[0;31m:[0m invalid syntax


In [59]: [0;36m  File [0;32m"<ipython-input-59-a02c423dc089>"[0;36m, line [0;32m1[0m
[0;31m    "output_type": "stream",[0m
[0m                 ^[0m
[0;31mSyntaxError[0m[0;31m:[0m invalid syntax


In [60]: [0;36m  File [0;32m"<ipython-input-60-b3bb20d850a0>"[0;36m, line [0;32m1[0m
[0;31m    "text": [[0m
[0m          ^[0m
[0;31mSyntaxError[0m[0;31m:[0m invalid syntax


In [61]: Out[61]: ('InteractionYields::_load(): Looking for /Users/afedynitch/git/MCEq/data/SIBYLL23_yields_ledpm.bz2\n',)

In [62]: Out[62]: ('DecayYields:_load():: Loading file /Users/afedynitch/git/MCEq/data/decays_v1.ppd\n',)

In [63]: Out[63]: ('DecayYields::_load(): Warning: no decay distributions for 2112 found.\n',)

In [64]: Out[64]: ('DecayYields::_load(): Warning: no decay distributions for -2112 found.\n',)

In [65]: Out[65]: ('\n',)

In [66]: Out[66]: ('Hadrons and stable particles:\n',)

In [67]: Out[67]: ('\n',)

In [68]: Out[68]: ('"gamma", "p", "p-bar", "n", "n-bar"\n',)

In [69]: Out[69]: ('\n',)

In [70]: Out[70]: ('Mixed:\n',)

In [71]: Out[71]: ('\n',)

In [72]: Out[72]: ('"pi+", "pi-", "K0L", "K-", "K+", "Lambda0", "Lambda0-bar", "Xi0-bar", \n',)

In [73]: Out[73]: ('"Xi0", "K0S", "Xi-", "Xi--bar", "Sigma-", "Sigma--bar", "Sigma+", "Sigma+-bar", \n',)

In [74]: Out[74]: ('"Omega-", "Omega--bar", "D-", "D+", "Ds-", "Ds+", "D0-bar", "D0", \n',)

In [75]: Out[75]: ('"XiC+", "XiC+-bar", "tau-", "tau+", "LambdaC+", "LambdaC+-bar", "XiC0", "XiC0-bar", \n',)

In [76]: Out[76]: ('"OmegaC0", "OmegaC0-bar", "pi0"\n',)

In [77]: Out[77]: ('\n',)

In [78]: Out[78]: ('Resonances:\n',)

In [79]: Out[79]: ('\n',)

In [80]: Out[80]: ('"eta", "Sigma0", "Sigma0-bar", "D*-", "D*+", "eta*", "jpsi", "phi", \n',)

In [81]: Out[81]: ('"SigmaC0", "SigmaC0-bar", "SigmaC+", "SigmaC+-bar", "SigmaC++", "SigmaC++-bar", "omega", "Xi*0", \n',)

In [82]: Out[82]: ('"Xi*0-bar", "Xi*-", "Xi*--bar", "SigmaC*0", "SigmaC*0-bar", "SigmaC*++", "SigmaC*++-bar", "SigmaC*+", \n',)

In [83]: Out[83]: ('"SigmaC*+-bar", "K*0-bar", "K*0", "K*-", "K*+", "Sigma*+", "Sigma*+-bar", "Sigma*0", \n',)

In [84]: Out[84]: ('"Sigma*0-bar", "Sigma*-", "Sigma*--bar", "etaC", "rho0", "rho+", "rho-", "Delta0", \n',)

In [85]: Out[85]: ('"Delta-", "Delta+", "Delta++", "Delta++-bar", "Delta+-bar", "Delta--bar", "Delta0-bar", "D*0", \n',)

In [86]: Out[86]: ('"D*0-bar", "Ds*-", "XiC*0", "XiC*+", "XiC*+-bar", "XiC*0-bar", "Ds*+"\n',)

In [87]: Out[87]: ('\n',)

In [88]: Out[88]: ('Leptons:\n',)

In [89]: Out[89]: ('\n',)

In [90]: Out[90]: ('"e-", "nue", "numu", "nutau", "antinutau", "antinumu", "antinue", "e+", \n',)

In [91]: Out[91]: ('"mu-", "mu+"\n',)

In [92]: Out[92]: ('\n',)

In [93]: Out[93]: ('Aliases:\n',)

In [94]: Out[94]: ('"k_nue", "k_numu", "k_nutau", "pi_antinutau", "pi_antinumu", "pi_antinue", "obs_nue", "obs_numu", \n',)

In [95]: Out[95]: ('"obs_nutau", "pr_antinumu", "pr_antinue", "pr_nutau", "pr_nue", "pr_numu", "obs_antinutau", "obs_antinumu", \n',)

In [96]: Out[96]: ('"obs_antinue", "pr_antinutau", "pi_nue", "pi_numu", "pi_nutau", "k_antinutau", "k_antinumu", "k_antinue", \n',)

In [97]: Out[97]: ('"k_mu-", "pi_mu+", "obs_mu-", "pr_mu+", "pr_mu-", "obs_mu+", "pi_mu-", "k_mu+"\n',)

In [98]: Out[98]: ('\n',)

In [99]: Out[99]: ('Total number of species: 82\n',)

In [100]: Out[100]: ('MCEqRun::set_interaction_model():  SIBYLL23\n',)

In [101]: Out[101]: ('InteractionYields:set_interaction_model():: Model SIBYLL23 already loaded.\n',)

In [102]: Out[102]: ('InteractionYields:set_interaction_model():: Model SIBYLL23 already loaded.\n',)

In [103]: Out[103]: ('MCEqRun::_init_default_matrices():Start filling matrices. Skip_D_matrix = False\n',)

In [104]: Out[104]: ('MCEqRun::_convert_to_sparse():Converting to sparse (CSR) matrix format.\n',)

In [105]: Out[105]: ('(7216,)\n',)

In [106]: Out[106]: ('C Matrix info:\n',)

In [107]: Out[107]: ('    density    : 2.07%\n',)

In [108]: Out[108]: ('    shape      : 7216 x 7216\n',)

In [109]: Out[109]: ('    nnz        : 1076651\n',)

In [110]: Out[110]: ('D Matrix info:\n',)

In [111]: Out[111]: ('    density    : 1.01%\n',)

In [112]: Out[112]: ('    shape      : 7216 x 7216\n',)

In [113]: Out[113]: ('    nnz        : 523616\n',)

In [114]: Out[114]: ('MCEqRun::_init_default_matrices():Done filling matrices.\n',)

In [115]: Out[115]: ("MCEqRun::set_density_model():  CORSIKA ('BK_USStd', None)\n",)

In [116]: Out[116]: ('MCEqRun::set_theta_deg():  0.0\n',)

In [117]: Out[117]: ('atmospheres::_load_cache(): loading cache.\n',)

In [118]: Out[118]: 'MCEqRun::set_primary_model():  Thunman None\n'

In [119]: [0;36m  File [0;32m"<ipython-input-119-f75d1ecd2fcd>"[0;36m, line [0;32m1[0m
[0;31m    ][0m
[0m    ^[0m
[0;31mSyntaxError[0m[0;31m:[0m invalid syntax


In [120]: [0;36m  File [0;32m"<ipython-input-120-7d9d25f71cb8>"[0;36m, line [0;32m1[0m
[0;31m    }[0m
[0m    ^[0m
[0;31mSyntaxError[0m[0;31m:[0m invalid syntax


In [121]: [0;36m  File [0;32m"<ipython-input-121-27fc3ba6872a>"[0;36m, line [0;32m1[0m
[0;31m    ],[0m
[0m    ^[0m
[0;31mSyntaxError[0m[0;31m:[0m invalid syntax


In [122]: [0;36m  File [0;32m"<ipython-input-122-1379479f1eba>"[0;36m, line [0;32m1[0m
[0;31m    "source": [[0m
[0m            ^[0m
[0;31mSyntaxError[0m[0;31m:[0m invalid syntax


In [123]: Out[123]: ('mceq_run = MCEqRun(\n',)

In [124]: Out[124]: ('#provide the string of the interaction model\n',)

In [125]: Out[125]: ("interaction_model='SIBYLL2.3',\n",)

In [126]: Out[126]: ('#primary cosmic ray flux model\n',)

In [127]: Out[127]: ('#support a tuple (primary model class (not instance!), arguments)\n',)

In [128]: Out[128]: ('primary_model=(pm.Thunman, None),\n',)

In [129]: Out[129]: ('# Zenith angle in degrees. 0=vertical, 90=horizontal\n',)

In [130]: Out[130]: ('theta_deg=0.0,\n',)

In [131]: Out[131]: ('#expand the rest of the options from mceq_config.py\n',)

In [132]: Out[132]: ('**config\n',)

In [133]: Out[133]: ')'

In [134]: [0;36m  File [0;32m"<ipython-input-134-f75d1ecd2fcd>"[0;36m, line [0;32m1[0m
[0;31m    ][0m
[0m    ^[0m
[0;31mSyntaxError[0m[0;31m:[0m invalid syntax


In [135]: [0;36m  File [0;32m"<ipython-input-135-ac0737f6bd75>"[0;36m, line [0;32m1[0m
[0;31m    },[0m
[0m    ^[0m
[0;31mSyntaxError[0m[0;31m:[0m invalid syntax


In [136]: [0;36m  File [0;32m"<ipython-input-136-d9bed3b7e151>"[0;36m, line [0;32m1[0m
[0;31m    {[0m
[0m     ^[0m
[0;31mSyntaxError[0m[0;31m:[0m unexpected EOF while parsing


In [137]: [0;36m  File [0;32m"<ipython-input-137-eb187baea13f>"[0;36m, line [0;32m1[0m
[0;31m    "cell_type": "code",[0m
[0m               ^[0m
[0;31mSyntaxError[0m[0;31m:[0m invalid syntax


In [138]: [0;36m  File [0;32m"<ipython-input-138-ceeb67475727>"[0;36m, line [0;32m1[0m
[0;31m    "execution_count": 4,[0m
[0m                     ^[0m
[0;31mSyntaxError[0m[0;31m:[0m invalid syntax


In [139]: [0;36m  File [0;32m"<ipython-input-139-08afc63cd5df>"[0;36m, line [0;32m1[0m
[0;31m    "metadata": {[0m
[0m              ^[0m
[0;31mSyntaxError[0m[0;31m:[0m invalid syntax


In [140]: [0;36m  File [0;32m"<ipython-input-140-cb3f48315de0>"[0;36m, line [0;32m1[0m
[0;31m    "collapsed": true[0m
[0m               ^[0m
[0;31mSyntaxError[0m[0;31m:[0m invalid syntax


In [141]: [0;36m  File [0;32m"<ipython-input-141-ac0737f6bd75>"[0;36m, line [0;32m1[0m
[0;31m    },[0m
[0m    ^[0m
[0;31mSyntaxError[0m[0;31m:[0m invalid syntax


In [142]: [0;36m  File [0;32m"<ipython-input-142-f4582426444f>"[0;36m, line [0;32m1[0m
[0;31m    "outputs": [],[0m
[0m             ^[0m
[0;31mSyntaxError[0m[0;31m:[0m invalid syntax


In [143]: [0;36m  File [0;32m"<ipython-input-143-1379479f1eba>"[0;36m, line [0;32m1[0m
[0;31m    "source": [[0m
[0m            ^[0m
[0;31mSyntaxError[0m[0;31m:[0m invalid syntax


In [144]: Out[144]: ('res_groups = [\n',)

In [145]: Out[145]: ('    (["D+", "D-", "D0", "D0-bar", "D*+", "D*-", "D*0", "D*0-bar"], r"$D^\\pm + D^0$"),\n',)

In [146]: Out[146]: ('    (["Ds+", "Ds-"], r"$D_s$"),\n',)

In [147]: Out[147]: ('    (["K0S"], r"$K^0_s$"),\n',)

In [148]: Out[148]: ('    (["K0L"], r"$K^0_L$"),\n',)

In [149]: Out[149]: ('    (["LambdaC+", "LambdaC+-bar"], r\'$\\Lambda_C$\'),\n',)

In [150]: Out[150]: ('    (["OmegaC0", "OmegaC0-bar", "XiC+", \n',)

In [151]: Out[151]: ('      "XiC+-bar", "XiC0", "XiC0-bar", \n',)

In [152]: Out[152]: ('      "SigmaC*+", "SigmaC*++", "tau+", "tau-", \n',)

In [153]: Out[153]: ('      "SigmaC*++-bar", "SigmaC*+-bar", "SigmaC*0", \n',)

In [154]: Out[154]: ('      "SigmaC*0-bar", "SigmaC+", "SigmaC++", \n',)

In [155]: Out[155]: ('      "SigmaC++-bar", "SigmaC+-bar", "SigmaC0", \n',)

In [156]: Out[156]: ('      "SigmaC0-bar"], r"other prompt"),\n',)

In [157]: Out[157]: ('    (["K0S", "K0L", "n", "n-bar", "p", "p-bar", \n',)

In [158]: Out[158]: ('      "Lambda0", "Lambda0-bar", "Sigma-", \n',)

In [159]: Out[159]: ('      "Sigma--bar", "Xi-", "Xi--bar", "Xi0", \n',)

In [160]: Out[160]: ('      "Xi0-bar", "Delta-", "Delta--bar", "Delta0", \n',)

In [161]: Out[161]: ('      "Delta0-bar", "K*+", "K*-", "K*0", "K*0-bar", \n',)

In [162]: Out[162]: ('      "Omega-", "Omega--bar", "Sigma*+", "Sigma*+-bar", \n',)

In [163]: Out[163]: ('      "Sigma*-", "Sigma*--bar", "Sigma*0", "Sigma*0-bar", \n',)

In [164]: Out[164]: ('      "Sigma+", "Sigma+-bar", "Sigma0", "Sigma0-bar", \n',)

In [165]: Out[165]: ('      "Delta+", "Delta++", "Delta++-bar", "Delta+-bar", \n',)

In [166]: Out[166]: ('      "Xi*-", "Xi*--bar", "Xi*0", "Xi*0-bar"],r"other conv. mu"),\n',)

In [167]: Out[167]: ('    (["K0S", "K0L", "n", "n-bar", "p", "p-bar", \n',)

In [168]: Out[168]: ('      "Lambda0", "Lambda0-bar", "Sigma-", "Sigma--bar", \n',)

In [169]: Out[169]: ('      "Xi-", "Xi--bar", "Xi0", "Xi0-bar", "Delta-", \n',)

In [170]: Out[170]: ('      "Delta--bar", "Delta0", "Delta0-bar", "K*+", \n',)

In [171]: Out[171]: ('      "K*-", "K*0", "K*0-bar", "Omega-", "Omega--bar", \n',)

In [172]: Out[172]: ('      "Sigma*+", "Sigma*+-bar", "Sigma*-", "Sigma*--bar", \n',)

In [173]: Out[173]: ('      "Sigma*0", "Sigma*0-bar", "Sigma+", "Sigma+-bar", \n',)

In [174]: Out[174]: ('      "Sigma0", "Sigma0-bar", "Delta+", "Delta++", \n',)

In [175]: Out[175]: ('      "Delta++-bar", "Delta+-bar", "Xi*-", "Xi*--bar", \n',)

In [176]: Out[176]: ('      "Xi*0", "Xi*0-bar", "eta", "eta*", "omega", \n',)

In [177]: Out[177]: ('      "phi", "pi0", "rho+", "rho-", "rho0"],r"other conv. numu"),\n',)

In [178]: Out[178]: ('    (["n", "n-bar", "p", "p-bar", "Lambda0", \n',)

In [179]: Out[179]: ('      "Lambda0-bar", "Sigma-", "Sigma--bar", \n',)

In [180]: Out[180]: ('      "Xi-", "Xi--bar", "Xi0", "Xi0-bar", "Delta-", \n',)

In [181]: Out[181]: ('      "Delta--bar", "Delta0", "Delta0-bar", \n',)

In [182]: Out[182]: ('      "K*+", "K*-", "K*0", "K*0-bar", "Omega-", \n',)

In [183]: Out[183]: ('      "Omega--bar", "Sigma*+", "Sigma*+-bar", "Sigma*-", \n',)

In [184]: Out[184]: ('      "Sigma*--bar", "Sigma*0", "Sigma*0-bar", "Sigma+", \n',)

In [185]: Out[185]: ('      "Sigma+-bar", "Sigma0", "Sigma0-bar", "Delta+", \n',)

In [186]: Out[186]: ('      "Delta++", "Delta++-bar", "Delta+-bar", "Xi*-", \n',)

In [187]: Out[187]: ('      "Xi*--bar", "Xi*0", "Xi*0-bar", "eta", "eta*", \n',)

In [188]: Out[188]: ('      "omega", "phi", "pi0", "rho+", "rho-", "rho0"],r"other conv. nue"),\n',)

In [189]: Out[189]: ('    (["eta", "eta*", "omega", "phi", \n',)

In [190]: Out[190]: ('      "pi0", "rho+", "rho-", "rho0",\n',)

In [191]: Out[191]: ('      "etaC", "jpsi"], r"unflavored"),\n',)

In [192]: Out[192]: ('    (["tau+","tau-"], r"tau decay"),\n',)

In [193]: Out[193]: ('    (["mu+", "mu-", "pi_mu+", "pi_mu-", \n',)

In [194]: Out[194]: ('      "k_mu+", "k_mu-", "pr_mu+", "pr_mu-"], r"$\\mu$ decay")]\n',)

In [195]: Out[195]: ('\n',)

In [196]: Out[196]: ("color_spectrum = ['k', 'b', 'r', 'g', 'orange', 'cyan', 'violet',\n",)

In [197]: Out[197]: "                  'brown', 'pink', 'yellow', 'lightblue']"

In [198]: [0;36m  File [0;32m"<ipython-input-198-f75d1ecd2fcd>"[0;36m, line [0;32m1[0m
[0;31m    ][0m
[0m    ^[0m
[0;31mSyntaxError[0m[0;31m:[0m invalid syntax


In [199]: [0;36m  File [0;32m"<ipython-input-199-ac0737f6bd75>"[0;36m, line [0;32m1[0m
[0;31m    },[0m
[0m    ^[0m
[0;31mSyntaxError[0m[0;31m:[0m invalid syntax


In [200]: [0;36m  File [0;32m"<ipython-input-200-d9bed3b7e151>"[0;36m, line [0;32m1[0m
[0;31m    {[0m
[0m     ^[0m
[0;31mSyntaxError[0m[0;31m:[0m unexpected EOF while parsing


In [201]: [0;36m  File [0;32m"<ipython-input-201-eb187baea13f>"[0;36m, line [0;32m1[0m
[0;31m    "cell_type": "code",[0m
[0m               ^[0m
[0;31mSyntaxError[0m[0;31m:[0m invalid syntax


In [202]: [0;36m  File [0;32m"<ipython-input-202-1bc13288e6a3>"[0;36m, line [0;32m1[0m
[0;31m    "execution_count": 5,[0m
[0m                     ^[0m
[0;31mSyntaxError[0m[0;31m:[0m invalid syntax


In [203]: [0;36m  File [0;32m"<ipython-input-203-0f9e64771858>"[0;36m, line [0;32m1[0m
[0;31m    "metadata": {},[0m
[0m              ^[0m
[0;31mSyntaxError[0m[0;31m:[0m invalid syntax


In [204]: [0;36m  File [0;32m"<ipython-input-204-b317a7411d2f>"[0;36m, line [0;32m1[0m
[0;31m    "outputs": [[0m
[0m             ^[0m
[0;31mSyntaxError[0m[0;31m:[0m invalid syntax


In [205]: [0;36m  File [0;32m"<ipython-input-205-d9bed3b7e151>"[0;36m, line [0;32m1[0m
[0;31m    {[0m
[0m     ^[0m
[0;31mSyntaxError[0m[0;31m:[0m unexpected EOF while parsing


In [206]: [0;36m  File [0;32m"<ipython-input-206-0cef57bfeabd>"[0;36m, line [0;32m1[0m
[0;31m    "name": "stdout",[0m
[0m          ^[0m
[0;31mSyntaxError[0m[0;31m:[0m invalid syntax


In [207]: [0;36m  File [0;32m"<ipython-input-207-a02c423dc089>"[0;36m, line [0;32m1[0m
[0;31m    "output_type": "stream",[0m
[0m                 ^[0m
[0;31mSyntaxError[0m[0;31m:[0m invalid syntax


In [208]: [0;36m  File [0;32m"<ipython-input-208-b3bb20d850a0>"[0;36m, line [0;32m1[0m
[0;31m    "text": [[0m
[0m          ^[0m
[0;31mSyntaxError[0m[0;31m:[0m invalid syntax


In [209]: Out[209]: ('MCEqRun::set_obs_particles(): Converted names:D+, D-, D0, D0-bar, D*+, D*-, D*0, D*0-bar\n',)

In [210]: Out[210]: ('to: 411, -411, 421, -421, 413, -413, 10421, -10421\n',)

In [211]: Out[211]: ('MCEqRun::_init_default_matrices():Start filling matrices. Skip_D_matrix = False\n',)

In [212]: Out[212]: ('MCEqRun::_convert_to_sparse():Converting to sparse (CSR) matrix format.\n',)

In [213]: Out[213]: ('(7216,)\n',)

In [214]: Out[214]: ('C Matrix info:\n',)

In [215]: Out[215]: ('    density    : 2.48%\n',)

In [216]: Out[216]: ('    shape      : 7216 x 7216\n',)

In [217]: Out[217]: ('    nnz        : 1290895\n',)

In [218]: Out[218]: ('D Matrix info:\n',)

In [219]: Out[219]: ('    density    : 1.05%\n',)

In [220]: Out[220]: ('    shape      : 7216 x 7216\n',)

In [221]: Out[221]: ('    nnz        : 548250\n',)

In [222]: Out[222]: ('MCEqRun::_init_default_matrices():Done filling matrices.\n',)

In [223]: Out[223]: ('MCEqRun::_calculate_integration_path(): X_surface = 1033.80555937\n',)

In [224]: Out[224]: ('MCEqRun::_forward_euler(): Solver will perform 519 integration steps.\n',)

In [225]: Out[225]: ('Performance:   1.82ms/iteration\n',)

In [226]: Out[226]: ('\n',)

In [227]: Out[227]: ('MCEqRun::_forward_euler(): time elapsed during integration: 0.94743013382 sec\n',)

In [228]: Out[228]: ('MCEqRun::set_obs_particles(): Converted names:Ds+, Ds-\n',)

In [229]: Out[229]: ('to: 431, -431\n',)

In [230]: Out[230]: ('MCEqRun::_init_default_matrices():Start filling matrices. Skip_D_matrix = False\n',)

In [231]: Out[231]: ('MCEqRun::_convert_to_sparse():Converting to sparse (CSR) matrix format.\n',)

In [232]: Out[232]: ('(7216,)\n',)

In [233]: Out[233]: ('C Matrix info:\n',)

In [234]: Out[234]: ('    density    : 2.48%\n',)

In [235]: Out[235]: ('    shape      : 7216 x 7216\n',)

In [236]: Out[236]: ('    nnz        : 1292472\n',)

In [237]: Out[237]: ('D Matrix info:\n',)

In [238]: Out[238]: ('    density    : 1.03%\n',)

In [239]: Out[239]: ('    shape      : 7216 x 7216\n',)

In [240]: Out[240]: ('    nnz        : 537432\n',)

In [241]: Out[241]: ('MCEqRun::_init_default_matrices():Done filling matrices.\n',)

In [242]: Out[242]: ('MCEqRun::_forward_euler(): Solver will perform 519 integration steps.\n',)

In [243]: Out[243]: ('Performance:   2.04ms/iteration\n',)

In [244]: Out[244]: ('\n',)

In [245]: Out[245]: ('MCEqRun::_forward_euler(): time elapsed during integration: 1.05886793137 sec\n',)

In [246]: Out[246]: ('MCEqRun::set_obs_particles(): Converted names:K0S\n',)

In [247]: Out[247]: ('to: 310\n',)

In [248]: Out[248]: ('MCEqRun::_init_default_matrices():Start filling matrices. Skip_D_matrix = False\n',)

In [249]: Out[249]: ('MCEqRun::_convert_to_sparse():Converting to sparse (CSR) matrix format.\n',)

In [250]: Out[250]: ('(7216,)\n',)

In [251]: Out[251]: ('C Matrix info:\n',)

In [252]: Out[252]: ('    density    : 2.14%\n',)

In [253]: Out[253]: ('    shape      : 7216 x 7216\n',)

In [254]: Out[254]: ('    nnz        : 1116349\n',)

In [255]: Out[255]: ('D Matrix info:\n',)

In [256]: Out[256]: ('    density    : 1.01%\n',)

In [257]: Out[257]: ('    shape      : 7216 x 7216\n',)

In [258]: Out[258]: ('    nnz        : 527737\n',)

In [259]: Out[259]: ('MCEqRun::_init_default_matrices():Done filling matrices.\n',)

In [260]: Out[260]: ('MCEqRun::_forward_euler(): Solver will perform 519 integration steps.\n',)

In [261]: Out[261]: ('Performance:   1.52ms/iteration\n',)

In [262]: Out[262]: ('\n',)

In [263]: Out[263]: ('MCEqRun::_forward_euler(): time elapsed during integration: 0.79113984108 sec\n',)

In [264]: Out[264]: ('MCEqRun::set_obs_particles(): Converted names:K0L\n',)

In [265]: Out[265]: ('to: 130\n',)

In [266]: Out[266]: ('MCEqRun::_init_default_matrices():Start filling matrices. Skip_D_matrix = False\n',)

In [267]: Out[267]: ('MCEqRun::_convert_to_sparse():Converting to sparse (CSR) matrix format.\n',)

In [268]: Out[268]: ('(7216,)\n',)

In [269]: Out[269]: ('C Matrix info:\n',)

In [270]: Out[270]: ('    density    : 2.15%\n',)

In [271]: Out[271]: ('    shape      : 7216 x 7216\n',)

In [272]: Out[272]: ('    nnz        : 1117423\n',)

In [273]: Out[273]: ('D Matrix info:\n',)

In [274]: Out[274]: ('    density    : 1.03%\n',)

In [275]: Out[275]: ('    shape      : 7216 x 7216\n',)

In [276]: Out[276]: ('    nnz        : 538492\n',)

In [277]: Out[277]: ('MCEqRun::_init_default_matrices():Done filling matrices.\n',)

In [278]: Out[278]: ('MCEqRun::_forward_euler(): Solver will perform 519 integration steps.\n',)

In [279]: Out[279]: ('Performance:   1.32ms/iteration\n',)

In [280]: Out[280]: ('\n',)

In [281]: Out[281]: ('MCEqRun::_forward_euler(): time elapsed during integration: 0.684997081757 sec\n',)

In [282]: Out[282]: ('MCEqRun::set_obs_particles(): Converted names:LambdaC+, LambdaC+-bar\n',)

In [283]: Out[283]: ('to: 4122, -4122\n',)

In [284]: Out[284]: ('MCEqRun::_init_default_matrices():Start filling matrices. Skip_D_matrix = False\n',)

In [285]: Out[285]: ('MCEqRun::_convert_to_sparse():Converting to sparse (CSR) matrix format.\n',)

In [286]: Out[286]: ('(7216,)\n',)

In [287]: Out[287]: ('C Matrix info:\n',)

In [288]: Out[288]: ('    density    : 2.39%\n',)

In [289]: Out[289]: ('    shape      : 7216 x 7216\n',)

In [290]: Out[290]: ('    nnz        : 1246389\n',)

In [291]: Out[291]: ('D Matrix info:\n',)

In [292]: Out[292]: ('    density    : 1.02%\n',)

In [293]: Out[293]: ('    shape      : 7216 x 7216\n',)

In [294]: Out[294]: ('    nnz        : 532524\n',)

In [295]: Out[295]: ('MCEqRun::_init_default_matrices():Done filling matrices.\n',)

In [296]: Out[296]: ('MCEqRun::_forward_euler(): Solver will perform 519 integration steps.\n',)

In [297]: Out[297]: ('Performance:   1.25ms/iteration\n',)

In [298]: Out[298]: ('\n',)

In [299]: Out[299]: ('MCEqRun::_forward_euler(): time elapsed during integration: 0.651415109634 sec\n',)

In [300]: Out[300]: ('MCEqRun::set_obs_particles(): Converted names:OmegaC0, OmegaC0-bar, XiC+, XiC+-bar, XiC0, XiC0-bar, SigmaC*+, SigmaC*++, tau+, tau-, SigmaC*++-bar, SigmaC*+-bar, SigmaC*0, SigmaC*0-bar, SigmaC+, SigmaC++, SigmaC++-bar, SigmaC+-bar, SigmaC0, SigmaC0-bar\n',)

In [301]: Out[301]: ('to: 4332, -4332, 4232, -4232, 4132, -4132, 4214, 4224, -15, 15, -4224, -4214, 4114, -4114, 4212, 4222, -4222, -4212, 4112, -4112\n',)

In [302]: Out[302]: ('MCEqRun::_init_default_matrices():Start filling matrices. Skip_D_matrix = False\n',)

In [303]: Out[303]: ('MCEqRun::_convert_to_sparse():Converting to sparse (CSR) matrix format.\n',)

In [304]: Out[304]: ('(7216,)\n',)

In [305]: Out[305]: ('C Matrix info:\n',)

In [306]: Out[306]: ('    density    : 2.52%\n',)

In [307]: Out[307]: ('    shape      : 7216 x 7216\n',)

In [308]: Out[308]: ('    nnz        : 1310848\n',)

In [309]: Out[309]: ('D Matrix info:\n',)

In [310]: Out[310]: ('    density    : 1.09%\n',)

In [311]: Out[311]: ('    shape      : 7216 x 7216\n',)

In [312]: Out[312]: ('    nnz        : 568931\n',)

In [313]: Out[313]: ('MCEqRun::_init_default_matrices():Done filling matrices.\n',)

In [314]: Out[314]: ('MCEqRun::_forward_euler(): Solver will perform 519 integration steps.\n',)

In [315]: Out[315]: ('Performance:   1.51ms/iteration\n',)

In [316]: Out[316]: ('\n',)

In [317]: Out[317]: ('MCEqRun::_forward_euler(): time elapsed during integration: 0.785408973694 sec\n',)

In [318]: Out[318]: ('MCEqRun::set_obs_particles(): Converted names:K0S, K0L, n, n-bar, p, p-bar, Lambda0, Lambda0-bar, Sigma-, Sigma--bar, Xi-, Xi--bar, Xi0, Xi0-bar, Delta-, Delta--bar, Delta0, Delta0-bar, K*+, K*-, K*0, K*0-bar, Omega-, Omega--bar, Sigma*+, Sigma*+-bar, Sigma*-, Sigma*--bar, Sigma*0, Sigma*0-bar, Sigma+, Sigma+-bar, Sigma0, Sigma0-bar, Delta+, Delta++, Delta++-bar, Delta+-bar, Xi*-, Xi*--bar, Xi*0, Xi*0-bar\n',)

In [319]: Out[319]: ('to: 310, 130, 2112, -2112, 2212, -2212, 3122, -3122, 3112, -3112, 3312, -3312, 3322, -3322, 1114, -1114, 2114, -2114, 323, -323, 313, -313, 3334, -3334, 3224, -3224, 3114, -3114, 3214, -3214, 3222, -3222, 3212, -3212, 2214, 2224, -2224, -2214, 3314, -3314, 3324, -3324\n',)

In [320]: Out[320]: ('MCEqRun::_init_default_matrices():Start filling matrices. Skip_D_matrix = False\n',)

In [321]: Out[321]: ('MCEqRun::_convert_to_sparse():Converting to sparse (CSR) matrix format.\n',)

In [322]: Out[322]: ('(7216,)\n',)

In [323]: Out[323]: ('C Matrix info:\n',)

In [324]: Out[324]: ('    density    : 2.31%\n',)

In [325]: Out[325]: ('    shape      : 7216 x 7216\n',)

In [326]: Out[326]: ('    nnz        : 1204425\n',)

In [327]: Out[327]: ('D Matrix info:\n',)

In [328]: Out[328]: ('    density    : 1.12%\n',)

In [329]: Out[329]: ('    shape      : 7216 x 7216\n',)

In [330]: Out[330]: ('    nnz        : 583757\n',)

In [331]: Out[331]: ('MCEqRun::_init_default_matrices():Done filling matrices.\n',)

In [332]: Out[332]: ('MCEqRun::_forward_euler(): Solver will perform 519 integration steps.\n',)

In [333]: Out[333]: ('Performance:   1.49ms/iteration\n',)

In [334]: Out[334]: ('\n',)

In [335]: Out[335]: ('MCEqRun::_forward_euler(): time elapsed during integration: 0.772696971893 sec\n',)

In [336]: Out[336]: ('MCEqRun::set_obs_particles(): Converted names:K0S, K0L, n, n-bar, p, p-bar, Lambda0, Lambda0-bar, Sigma-, Sigma--bar, Xi-, Xi--bar, Xi0, Xi0-bar, Delta-, Delta--bar, Delta0, Delta0-bar, K*+, K*-, K*0, K*0-bar, Omega-, Omega--bar, Sigma*+, Sigma*+-bar, Sigma*-, Sigma*--bar, Sigma*0, Sigma*0-bar, Sigma+, Sigma+-bar, Sigma0, Sigma0-bar, Delta+, Delta++, Delta++-bar, Delta+-bar, Xi*-, Xi*--bar, Xi*0, Xi*0-bar, eta, eta*, omega, phi, pi0, rho+, rho-, rho0\n',)

In [337]: Out[337]: ('to: 310, 130, 2112, -2112, 2212, -2212, 3122, -3122, 3112, -3112, 3312, -3312, 3322, -3322, 1114, -1114, 2114, -2114, 323, -323, 313, -313, 3334, -3334, 3224, -3224, 3114, -3114, 3214, -3214, 3222, -3222, 3212, -3212, 2214, 2224, -2224, -2214, 3314, -3314, 3324, -3324, 221, 331, 223, 333, 111, 213, -213, 113\n',)

In [338]: Out[338]: ('MCEqRun::_init_default_matrices():Start filling matrices. Skip_D_matrix = False\n',)

In [339]: Out[339]: ('MCEqRun::_convert_to_sparse():Converting to sparse (CSR) matrix format.\n',)

In [340]: Out[340]: ('(7216,)\n',)

In [341]: Out[341]: ('C Matrix info:\n',)

In [342]: Out[342]: ('    density    : 2.38%\n',)

In [343]: Out[343]: ('    shape      : 7216 x 7216\n',)

In [344]: Out[344]: ('    nnz        : 1239754\n',)

In [345]: Out[345]: ('D Matrix info:\n',)

In [346]: Out[346]: ('    density    : 1.12%\n',)

In [347]: Out[347]: ('    shape      : 7216 x 7216\n',)

In [348]: Out[348]: ('    nnz        : 583757\n',)

In [349]: Out[349]: ('MCEqRun::_init_default_matrices():Done filling matrices.\n',)

In [350]: Out[350]: ('MCEqRun::_forward_euler(): Solver will perform 519 integration steps.\n',)

In [351]: Out[351]: ('Performance:   1.33ms/iteration\n',)

In [352]: Out[352]: ('\n',)

In [353]: Out[353]: ('MCEqRun::_forward_euler(): time elapsed during integration: 0.691722869873 sec\n',)

In [354]: Out[354]: ('MCEqRun::set_obs_particles(): Converted names:n, n-bar, p, p-bar, Lambda0, Lambda0-bar, Sigma-, Sigma--bar, Xi-, Xi--bar, Xi0, Xi0-bar, Delta-, Delta--bar, Delta0, Delta0-bar, K*+, K*-, K*0, K*0-bar, Omega-, Omega--bar, Sigma*+, Sigma*+-bar, Sigma*-, Sigma*--bar, Sigma*0, Sigma*0-bar, Sigma+, Sigma+-bar, Sigma0, Sigma0-bar, Delta+, Delta++, Delta++-bar, Delta+-bar, Xi*-, Xi*--bar, Xi*0, Xi*0-bar, eta, eta*, omega, phi, pi0, rho+, rho-, rho0\n',)

In [355]: Out[355]: ('to: 2112, -2112, 2212, -2212, 3122, -3122, 3112, -3112, 3312, -3312, 3322, -3322, 1114, -1114, 2114, -2114, 323, -323, 313, -313, 3334, -3334, 3224, -3224, 3114, -3114, 3214, -3214, 3222, -3222, 3212, -3212, 2214, 2224, -2224, -2214, 3314, -3314, 3324, -3324, 221, 331, 223, 333, 111, 213, -213, 113\n',)

In [356]: Out[356]: ('MCEqRun::_init_default_matrices():Start filling matrices. Skip_D_matrix = False\n',)

In [357]: Out[357]: ('MCEqRun::_convert_to_sparse():Converting to sparse (CSR) matrix format.\n',)

In [358]: Out[358]: ('(7216,)\n',)

In [359]: Out[359]: ('C Matrix info:\n',)

In [360]: Out[360]: ('    density    : 2.38%\n',)

In [361]: Out[361]: ('    shape      : 7216 x 7216\n',)

In [362]: Out[362]: ('    nnz        : 1238060\n',)

In [363]: Out[363]: ('D Matrix info:\n',)

In [364]: Out[364]: ('    density    : 1.08%\n',)

In [365]: Out[365]: ('    shape      : 7216 x 7216\n',)

In [366]: Out[366]: ('    nnz        : 564760\n',)

In [367]: Out[367]: ('MCEqRun::_init_default_matrices():Done filling matrices.\n',)

In [368]: Out[368]: ('MCEqRun::_forward_euler(): Solver will perform 519 integration steps.\n',)

In [369]: Out[369]: ('Performance:   1.83ms/iteration\n',)

In [370]: Out[370]: ('\n',)

In [371]: Out[371]: ('MCEqRun::_forward_euler(): time elapsed during integration: 0.952727794647 sec\n',)

In [372]: Out[372]: ('MCEqRun::set_obs_particles(): Converted names:eta, eta*, omega, phi, pi0, rho+, rho-, rho0, etaC, jpsi\n',)

In [373]: Out[373]: ('to: 221, 331, 223, 333, 111, 213, -213, 113, 441, 443\n',)

In [374]: Out[374]: 'MCEqRun::_init_default_matrices():Start filling matrices. Skip_D_matrix = False\n'

In [375]: [0;36m  File [0;32m"<ipython-input-375-f75d1ecd2fcd>"[0;36m, line [0;32m1[0m
[0;31m    ][0m
[0m    ^[0m
[0;31mSyntaxError[0m[0;31m:[0m invalid syntax


In [376]: [0;36m  File [0;32m"<ipython-input-376-ac0737f6bd75>"[0;36m, line [0;32m1[0m
[0;31m    },[0m
[0m    ^[0m
[0;31mSyntaxError[0m[0;31m:[0m invalid syntax


In [377]: [0;36m  File [0;32m"<ipython-input-377-d9bed3b7e151>"[0;36m, line [0;32m1[0m
[0;31m    {[0m
[0m     ^[0m
[0;31mSyntaxError[0m[0;31m:[0m unexpected EOF while parsing


In [378]: [0;36m  File [0;32m"<ipython-input-378-0cef57bfeabd>"[0;36m, line [0;32m1[0m
[0;31m    "name": "stdout",[0m
[0m          ^[0m
[0;31mSyntaxError[0m[0;31m:[0m invalid syntax


In [379]: [0;36m  File [0;32m"<ipython-input-379-a02c423dc089>"[0;36m, line [0;32m1[0m
[0;31m    "output_type": "stream",[0m
[0m                 ^[0m
[0;31mSyntaxError[0m[0;31m:[0m invalid syntax


In [380]: [0;36m  File [0;32m"<ipython-input-380-b3bb20d850a0>"[0;36m, line [0;32m1[0m
[0;31m    "text": [[0m
[0m          ^[0m
[0;31mSyntaxError[0m[0;31m:[0m invalid syntax


In [381]: Out[381]: ('MCEqRun::_convert_to_sparse():Converting to sparse (CSR) matrix format.\n',)

In [382]: Out[382]: ('(7216,)\n',)

In [383]: Out[383]: ('C Matrix info:\n',)

In [384]: Out[384]: ('    density    : 2.29%\n',)

In [385]: Out[385]: ('    shape      : 7216 x 7216\n',)

In [386]: Out[386]: ('    nnz        : 1193216\n',)

In [387]: Out[387]: ('D Matrix info:\n',)

In [388]: Out[388]: ('    density    : 1.01%\n',)

In [389]: Out[389]: ('    shape      : 7216 x 7216\n',)

In [390]: Out[390]: ('    nnz        : 523616\n',)

In [391]: Out[391]: ('MCEqRun::_init_default_matrices():Done filling matrices.\n',)

In [392]: Out[392]: ('MCEqRun::_forward_euler(): Solver will perform 519 integration steps.\n',)

In [393]: Out[393]: ('Performance:   1.80ms/iteration\n',)

In [394]: Out[394]: ('\n',)

In [395]: Out[395]: ('MCEqRun::_forward_euler(): time elapsed during integration: 0.933916807175 sec\n',)

In [396]: Out[396]: ('MCEqRun::set_obs_particles(): Converted names:tau+, tau-\n',)

In [397]: Out[397]: ('to: -15, 15\n',)

In [398]: Out[398]: ('MCEqRun::_init_default_matrices():Start filling matrices. Skip_D_matrix = False\n',)

In [399]: Out[399]: ('MCEqRun::_convert_to_sparse():Converting to sparse (CSR) matrix format.\n',)

In [400]: Out[400]: ('(7216,)\n',)

In [401]: Out[401]: ('C Matrix info:\n',)

In [402]: Out[402]: ('    density    : 2.50%\n',)

In [403]: Out[403]: ('    shape      : 7216 x 7216\n',)

In [404]: Out[404]: ('    nnz        : 1303139\n',)

In [405]: Out[405]: ('D Matrix info:\n',)

In [406]: Out[406]: ('    density    : 1.04%\n',)

In [407]: Out[407]: ('    shape      : 7216 x 7216\n',)

In [408]: Out[408]: ('    nnz        : 539753\n',)

In [409]: Out[409]: ('MCEqRun::_init_default_matrices():Done filling matrices.\n',)

In [410]: Out[410]: ('MCEqRun::_forward_euler(): Solver will perform 519 integration steps.\n',)

In [411]: Out[411]: ('Performance:   1.62ms/iteration\n',)

In [412]: Out[412]: ('\n',)

In [413]: Out[413]: ('MCEqRun::_forward_euler(): time elapsed during integration: 0.842524051666 sec\n',)

In [414]: Out[414]: ('MCEqRun::set_obs_particles(): Converted names:mu+, mu-, pi_mu+, pi_mu-, k_mu+, k_mu-, pr_mu+, pr_mu-\n',)

In [415]: Out[415]: ('to: -13, 13, -7113, 7113, -7213, 7213, -7013, 7013\n',)

In [416]: Out[416]: ('MCEqRun::_init_default_matrices():Start filling matrices. Skip_D_matrix = False\n',)

In [417]: Out[417]: ('MCEqRun::_convert_to_sparse():Converting to sparse (CSR) matrix format.\n',)

In [418]: Out[418]: ('(7216,)\n',)

In [419]: Out[419]: ('C Matrix info:\n',)

In [420]: Out[420]: ('    density    : 2.07%\n',)

In [421]: Out[421]: ('    shape      : 7216 x 7216\n',)

In [422]: Out[422]: ('    nnz        : 1076651\n',)

In [423]: Out[423]: ('D Matrix info:\n',)

In [424]: Out[424]: ('    density    : 1.11%\n',)

In [425]: Out[425]: ('    shape      : 7216 x 7216\n',)

In [426]: Out[426]: ('    nnz        : 579636\n',)

In [427]: Out[427]: ('MCEqRun::_init_default_matrices():Done filling matrices.\n',)

In [428]: Out[428]: ('MCEqRun::_forward_euler(): Solver will perform 519 integration steps.\n',)

In [429]: Out[429]: ('Performance:   1.56ms/iteration\n',)

In [430]: Out[430]: ('\n',)

In [431]: Out[431]: 'MCEqRun::_forward_euler(): time elapsed during integration: 0.810067892075 sec\n'

In [432]: [0;36m  File [0;32m"<ipython-input-432-f75d1ecd2fcd>"[0;36m, line [0;32m1[0m
[0;31m    ][0m
[0m    ^[0m
[0;31mSyntaxError[0m[0;31m:[0m invalid syntax


In [433]: [0;36m  File [0;32m"<ipython-input-433-7d9d25f71cb8>"[0;36m, line [0;32m1[0m
[0;31m    }[0m
[0m    ^[0m
[0;31mSyntaxError[0m[0;31m:[0m invalid syntax


In [434]: [0;36m  File [0;32m"<ipython-input-434-27fc3ba6872a>"[0;36m, line [0;32m1[0m
[0;31m    ],[0m
[0m    ^[0m
[0;31mSyntaxError[0m[0;31m:[0m invalid syntax


In [435]: [0;36m  File [0;32m"<ipython-input-435-1379479f1eba>"[0;36m, line [0;32m1[0m
[0;31m    "source": [[0m
[0m            ^[0m
[0;31mSyntaxError[0m[0;31m:[0m invalid syntax


In [436]: Out[436]: ('mag = 3\n',)

In [437]: Out[437]: ('mu_obs = {}\n',)

In [438]: Out[438]: ('numu_obs = {}\n',)

In [439]: Out[439]: ('nue_obs = {}\n',)

In [440]: Out[440]: ('nutau_obs = {}\n',)

In [441]: Out[441]: ('for res_group, res_title in res_groups:\n',)

In [442]: Out[442]: ('    mceq_run.set_obs_particles(res_group)\n',)

In [443]: Out[443]: ('    mceq_run.solve()\n',)

In [444]: Out[444]: ("    mu_obs[res_title] = mceq_run.get_solution('obs_mu+', mag) + \\\n",)

In [445]: Out[445]: ("                        mceq_run.get_solution('obs_mu-', mag)\n",)

In [446]: Out[446]: ("    numu_obs[res_title] = mceq_run.get_solution('obs_numu', mag) + \\\n",)

In [447]: Out[447]: ("                          mceq_run.get_solution('obs_antinumu', mag)\n",)

In [448]: Out[448]: ("    nue_obs[res_title] = mceq_run.get_solution('obs_nue', mag) + \\\n",)

In [449]: Out[449]: ("                         mceq_run.get_solution('obs_antinue', mag)\n",)

In [450]: Out[450]: ("    nutau_obs[res_title] = mceq_run.get_solution('obs_nutau', mag) + \\\n",)

In [451]: Out[451]: "                           mceq_run.get_solution('obs_antinutau', mag)"

In [452]: [0;36m  File [0;32m"<ipython-input-452-f75d1ecd2fcd>"[0;36m, line [0;32m1[0m
[0;31m    ][0m
[0m    ^[0m
[0;31mSyntaxError[0m[0;31m:[0m invalid syntax


In [453]: [0;36m  File [0;32m"<ipython-input-453-ac0737f6bd75>"[0;36m, line [0;32m1[0m
[0;31m    },[0m
[0m    ^[0m
[0;31mSyntaxError[0m[0;31m:[0m invalid syntax


In [454]: [0;36m  File [0;32m"<ipython-input-454-d9bed3b7e151>"[0;36m, line [0;32m1[0m
[0;31m    {[0m
[0m     ^[0m
[0;31mSyntaxError[0m[0;31m:[0m unexpected EOF while parsing


In [455]: [0;36m  File [0;32m"<ipython-input-455-eb187baea13f>"[0;36m, line [0;32m1[0m
[0;31m    "cell_type": "code",[0m
[0m               ^[0m
[0;31mSyntaxError[0m[0;31m:[0m invalid syntax


In [456]: [0;36m  File [0;32m"<ipython-input-456-2db8bdd4dd30>"[0;36m, line [0;32m1[0m
[0;31m    "execution_count": 6,[0m
[0m                     ^[0m
[0;31mSyntaxError[0m[0;31m:[0m invalid syntax


In [457]: [0;36m  File [0;32m"<ipython-input-457-08afc63cd5df>"[0;36m, line [0;32m1[0m
[0;31m    "metadata": {[0m
[0m              ^[0m
[0;31mSyntaxError[0m[0;31m:[0m invalid syntax


In [458]: [0;36m  File [0;32m"<ipython-input-458-cb3f48315de0>"[0;36m, line [0;32m1[0m
[0;31m    "collapsed": true[0m
[0m               ^[0m
[0;31mSyntaxError[0m[0;31m:[0m invalid syntax


In [459]: [0;36m  File [0;32m"<ipython-input-459-ac0737f6bd75>"[0;36m, line [0;32m1[0m
[0;31m    },[0m
[0m    ^[0m
[0;31mSyntaxError[0m[0;31m:[0m invalid syntax


In [460]: [0;36m  File [0;32m"<ipython-input-460-f4582426444f>"[0;36m, line [0;32m1[0m
[0;31m    "outputs": [],[0m
[0m             ^[0m
[0;31mSyntaxError[0m[0;31m:[0m invalid syntax


In [461]: [0;36m  File [0;32m"<ipython-input-461-1379479f1eba>"[0;36m, line [0;32m1[0m
[0;31m    "source": [[0m
[0m            ^[0m
[0;31mSyntaxError[0m[0;31m:[0m invalid syntax


In [462]: Out[462]: ("mu_conv = mceq_run.get_solution('conv_mu+', mag) + \\\n",)

In [463]: Out[463]: ("          mceq_run.get_solution('conv_mu-', mag)\n",)

In [464]: Out[464]: ('\n',)

In [465]: Out[465]: ("numu_conv = mceq_run.get_solution('conv_numu', mag) + \\\n",)

In [466]: Out[466]: ("            mceq_run.get_solution('conv_antinumu', mag)\n",)

In [467]: Out[467]: ('\n',)

In [468]: Out[468]: ("nue_conv = mceq_run.get_solution('conv_nue', mag) + \\\n",)

In [469]: Out[469]: ("           mceq_run.get_solution('conv_antinue', mag)\n",)

In [470]: Out[470]: ('\n',)

In [471]: Out[471]: ("mu_prompt = mceq_run.get_solution('pr_mu+', mag) + \\\n",)

In [472]: Out[472]: ("          mceq_run.get_solution('pr_mu-', mag)\n",)

In [473]: Out[473]: ('\n',)

In [474]: Out[474]: ("numu_prompt = mceq_run.get_solution('pr_numu', mag) + \\\n",)

In [475]: Out[475]: ("            mceq_run.get_solution('pr_antinumu', mag)\n",)

In [476]: Out[476]: ('\n',)

In [477]: Out[477]: ("nue_prompt = mceq_run.get_solution('pr_nue', mag) + \\\n",)

In [478]: Out[478]: ("           mceq_run.get_solution('pr_antinue', mag)\n",)

In [479]: Out[479]: ('\n',)

In [480]: Out[480]: ('\n',)

In [481]: Out[481]: ("mu_total = mceq_run.get_solution('total_mu+', mag) + \\\n",)

In [482]: Out[482]: ("           mceq_run.get_solution('total_mu-', mag)\n",)

In [483]: Out[483]: ('\n',)

In [484]: Out[484]: ("numu_total = mceq_run.get_solution('total_numu', mag) + \\\n",)

In [485]: Out[485]: ("            mceq_run.get_solution('total_antinumu', mag)\n",)

In [486]: Out[486]: ('\n',)

In [487]: Out[487]: ("nue_total = mceq_run.get_solution('total_nue', mag) + \\\n",)

In [488]: Out[488]: ("            mceq_run.get_solution('total_antinue', mag)\n",)

In [489]: Out[489]: ('\n',)

In [490]: Out[490]: ("nutau_total = mceq_run.get_solution('total_nutau', mag) + \\\n",)

In [491]: Out[491]: ("              mceq_run.get_solution('total_antinutau', mag)\n",)

In [492]: Out[492]: ('\n',)

In [493]: Out[493]: ("mu_pi = mceq_run.get_solution('pi_mu+', mag) + \\\n",)

In [494]: Out[494]: ("           mceq_run.get_solution('pi_mu-', mag)\n",)

In [495]: Out[495]: ('\n',)

In [496]: Out[496]: ("numu_pi = mceq_run.get_solution('pi_numu', mag) + \\\n",)

In [497]: Out[497]: ("            mceq_run.get_solution('pi_antinumu', mag)\n",)

In [498]: Out[498]: ('\n',)

In [499]: Out[499]: ("nue_pi = mceq_run.get_solution('pi_nue', mag) + \\\n",)

In [500]: Out[500]: ("            mceq_run.get_solution('pi_antinue', mag)\n",)

In [501]: Out[501]: ('\n',)

In [502]: Out[502]: ("mu_k = mceq_run.get_solution('k_mu+', mag) + \\\n",)

In [503]: Out[503]: ("           mceq_run.get_solution('k_mu-', mag)\n",)

In [504]: Out[504]: ('\n',)

In [505]: Out[505]: ("numu_k = mceq_run.get_solution('k_numu', mag) + \\\n",)

In [506]: Out[506]: ("            mceq_run.get_solution('k_antinumu', mag)\n",)

In [507]: Out[507]: ('\n',)

In [508]: Out[508]: ("nue_k = mceq_run.get_solution('k_nue', mag) + \\\n",)

In [509]: Out[509]: "            mceq_run.get_solution('k_antinue', mag)"

In [510]: [0;36m  File [0;32m"<ipython-input-510-f75d1ecd2fcd>"[0;36m, line [0;32m1[0m
[0;31m    ][0m
[0m    ^[0m
[0;31mSyntaxError[0m[0;31m:[0m invalid syntax


In [511]: [0;36m  File [0;32m"<ipython-input-511-ac0737f6bd75>"[0;36m, line [0;32m1[0m
[0;31m    },[0m
[0m    ^[0m
[0;31mSyntaxError[0m[0;31m:[0m invalid syntax


In [512]: [0;36m  File [0;32m"<ipython-input-512-d9bed3b7e151>"[0;36m, line [0;32m1[0m
[0;31m    {[0m
[0m     ^[0m
[0;31mSyntaxError[0m[0;31m:[0m unexpected EOF while parsing


In [513]: [0;36m  File [0;32m"<ipython-input-513-eb187baea13f>"[0;36m, line [0;32m1[0m
[0;31m    "cell_type": "code",[0m
[0m               ^[0m
[0;31mSyntaxError[0m[0;31m:[0m invalid syntax


In [514]: [0;36m  File [0;32m"<ipython-input-514-35e848064a70>"[0;36m, line [0;32m1[0m
[0;31m    "execution_count": 7,[0m
[0m                     ^[0m
[0;31mSyntaxError[0m[0;31m:[0m invalid syntax


In [515]: [0;36m  File [0;32m"<ipython-input-515-0f9e64771858>"[0;36m, line [0;32m1[0m
[0;31m    "metadata": {},[0m
[0m              ^[0m
[0;31mSyntaxError[0m[0;31m:[0m invalid syntax


In [516]: [0;36m  File [0;32m"<ipython-input-516-b317a7411d2f>"[0;36m, line [0;32m1[0m
[0;31m    "outputs": [[0m
[0m             ^[0m
[0;31mSyntaxError[0m[0;31m:[0m invalid syntax


In [517]: [0;36m  File [0;32m"<ipython-input-517-d9bed3b7e151>"[0;36m, line [0;32m1[0m
[0;31m    {[0m
[0m     ^[0m
[0;31mSyntaxError[0m[0;31m:[0m unexpected EOF while parsing


In [518]: [0;36m  File [0;32m"<ipython-input-518-9f856e71f5fe>"[0;36m, line [0;32m1[0m
[0;31m    "data": {[0m
[0m          ^[0m
[0;31mSyntaxError[0m[0;31m:[0m invalid syntax


In [519]: [0;36m  File [0;32m"<ipython-input-519-eab4b261d908>"[0;36m, line [0;32m1[0m
[0;31m    "text/plain": [[0m
[0m                ^[0m
[0;31mSyntaxError[0m[0;31m:[0m invalid syntax


In [520]: Out[520]: '<matplotlib.legend.Legend at 0x122e32f50>'

In [521]: [0;36m  File [0;32m"<ipython-input-521-f75d1ecd2fcd>"[0;36m, line [0;32m1[0m
[0;31m    ][0m
[0m    ^[0m
[0;31mSyntaxError[0m[0;31m:[0m invalid syntax


In [522]: [0;36m  File [0;32m"<ipython-input-522-ac0737f6bd75>"[0;36m, line [0;32m1[0m
[0;31m    },[0m
[0m    ^[0m
[0;31mSyntaxError[0m[0;31m:[0m invalid syntax


In [523]: [0;36m  File [0;32m"<ipython-input-523-35e848064a70>"[0;36m, line [0;32m1[0m
[0;31m    "execution_count": 7,[0m
[0m                     ^[0m
[0;31mSyntaxError[0m[0;31m:[0m invalid syntax


In [524]: [0;36m  File [0;32m"<ipython-input-524-0f9e64771858>"[0;36m, line [0;32m1[0m
[0;31m    "metadata": {},[0m
[0m              ^[0m
[0;31mSyntaxError[0m[0;31m:[0m invalid syntax


In [525]: [0;36m  File [0;32m"<ipython-input-525-41813ce779f4>"[0;36m, line [0;32m1[0m
[0;31m    "output_type": "execute_result"[0m
[0m                 ^[0m
[0;31mSyntaxError[0m[0;31m:[0m invalid syntax


In [526]: [0;36m  File [0;32m"<ipython-input-526-ac0737f6bd75>"[0;36m, line [0;32m1[0m
[0;31m    },[0m
[0m    ^[0m
[0;31mSyntaxError[0m[0;31m:[0m invalid syntax


In [527]: [0;36m  File [0;32m"<ipython-input-527-d9bed3b7e151>"[0;36m, line [0;32m1[0m
[0;31m    {[0m
[0m     ^[0m
[0;31mSyntaxError[0m[0;31m:[0m unexpected EOF while parsing


In [528]: [0;36m  File [0;32m"<ipython-input-528-329a6cb338d7>"[0;36m, line [0;32m1[0m
[0;31m    "name": "stderr",[0m
[0m          ^[0m
[0;31mSyntaxError[0m[0;31m:[0m invalid syntax


In [529]: [0;36m  File [0;32m"<ipython-input-529-a02c423dc089>"[0;36m, line [0;32m1[0m
[0;31m    "output_type": "stream",[0m
[0m                 ^[0m
[0;31mSyntaxError[0m[0;31m:[0m invalid syntax


In [530]: [0;36m  File [0;32m"<ipython-input-530-b3bb20d850a0>"[0;36m, line [0;32m1[0m
[0;31m    "text": [[0m
[0m          ^[0m
[0;31mSyntaxError[0m[0;31m:[0m invalid syntax


In [531]: Out[531]: ('/Users/afedynitch/anaconda2/lib/python2.7/site-packages/matplotlib/figure.py:1742: UserWarning: This figure includes Axes that are not compatible with tight_layout, so its results might be incorrect.\n',)

In [532]: Out[532]: '  warnings.warn("This figure includes Axes that are not "\n'

In [533]: [0;36m  File [0;32m"<ipython-input-533-f75d1ecd2fcd>"[0;36m, line [0;32m1[0m
[0;31m    ][0m
[0m    ^[0m
[0;31mSyntaxError[0m[0;31m:[0m invalid syntax


In [534]: [0;36m  File [0;32m"<ipython-input-534-ac0737f6bd75>"[0;36m, line [0;32m1[0m
[0;31m    },[0m
[0m    ^[0m
[0;31mSyntaxError[0m[0;31m:[0m invalid syntax


In [535]: [0;36m  File [0;32m"<ipython-input-535-d9bed3b7e151>"[0;36m, line [0;32m1[0m
[0;31m    {[0m
[0m     ^[0m
[0;31mSyntaxError[0m[0;31m:[0m unexpected EOF while parsing


In [536]: [0;36m  File [0;32m"<ipython-input-536-9f856e71f5fe>"[0;36m, line [0;32m1[0m
[0;31m    "data": {[0m
[0m          ^[0m
[0;31mSyntaxError[0m[0;31m:[0m invalid syntax


In [537]: [0;36m  File [0;32m"<ipython-input-537-1da54f48e800>"[0;36m, line [0;32m1[0m
[0;31m    "image/png": "iVBORw0KGgoAAAANSUhEUgAAAvEAAAIPCAYAAAD6oIGIAAAABHNCSVQICAgIfAhkiAAAAAlwSFlz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\nSUVORK5CYII=\n",[0m
[0m               ^[0m
[0;31mSyntaxError[0m[0;31m:[0m invalid syntax


In [538]: [0;36m  File [0;32m"<ipython-input-538-eab4b261d908>"[0;36m, line [0;32m1[0m
[0;31m    "text/plain": [[0m
[0m                ^[0m
[0;31mSyntaxError[0m[0;31m:[0m invalid syntax


In [539]: Out[539]: '<matplotlib.figure.Figure at 0x12403e390>'

In [540]: [0;36m  File [0;32m"<ipython-input-540-f75d1ecd2fcd>"[0;36m, line [0;32m1[0m
[0;31m    ][0m
[0m    ^[0m
[0;31mSyntaxError[0m[0;31m:[0m invalid syntax


In [541]: [0;36m  File [0;32m"<ipython-input-541-ac0737f6bd75>"[0;36m, line [0;32m1[0m
[0;31m    },[0m
[0m    ^[0m
[0;31mSyntaxError[0m[0;31m:[0m invalid syntax


In [542]: [0;36m  File [0;32m"<ipython-input-542-0f9e64771858>"[0;36m, line [0;32m1[0m
[0;31m    "metadata": {},[0m
[0m              ^[0m
[0;31mSyntaxError[0m[0;31m:[0m invalid syntax


In [543]: [0;36m  File [0;32m"<ipython-input-543-cdf582797161>"[0;36m, line [0;32m1[0m
[0;31m    "output_type": "display_data"[0m
[0m                 ^[0m
[0;31mSyntaxError[0m[0;31m:[0m invalid syntax


In [544]: [0;36m  File [0;32m"<ipython-input-544-7d9d25f71cb8>"[0;36m, line [0;32m1[0m
[0;31m    }[0m
[0m    ^[0m
[0;31mSyntaxError[0m[0;31m:[0m invalid syntax


In [545]: [0;36m  File [0;32m"<ipython-input-545-27fc3ba6872a>"[0;36m, line [0;32m1[0m
[0;31m    ],[0m
[0m    ^[0m
[0;31mSyntaxError[0m[0;31m:[0m invalid syntax


In [546]: [0;36m  File [0;32m"<ipython-input-546-1379479f1eba>"[0;36m, line [0;32m1[0m
[0;31m    "source": [[0m
[0m            ^[0m
[0;31mSyntaxError[0m[0;31m:[0m invalid syntax


In [547]: Out[547]: ("# color_spectrum = ['b', 'r', 'g', 'orange', 'cyan', 'violet',\n",)

In [548]: Out[548]: ("#                   'brown', 'pink', 'yellow', 'lightblue']\n",)

In [549]: Out[549]: ('\n',)

In [550]: Out[550]: ('fig = plt.figure(figsize=(11, 7.5))\n',)

In [551]: Out[551]: ('fig.set_tight_layout(dict(rect=[0.01, 0.01, 0.97, 0.95]))\n',)

In [552]: Out[552]: ('e_grid = mceq_run.e_grid\n',)

In [553]: Out[553]: ("plt.suptitle('{0}, broken power-law primary model.'.format('SIBYLL2.3'))\n",)

In [554]: Out[554]: ('plt.subplot(221)        \n',)

In [555]: Out[555]: ("plt.plot(e_grid, mu_total, ls='-', lw=2, color='black', label='total')\n",)

In [556]: Out[556]: ("plt.plot(e_grid, mu_conv, ls='dotted', lw=2, color='black', label=r'total conv.')\n",)

In [557]: Out[557]: ("plt.plot(e_grid, mu_prompt, ls='--', lw=2, color='black', label='total prompt')\n",)

In [558]: Out[558]: ("plt.plot(e_grid, mu_obs['other prompt'], ls='--', lw=1.5, color='lightblue', label=r'other prompt')\n",)

In [559]: Out[559]: ("plt.plot(e_grid, mu_obs['other conv. mu'], ls='--', lw=1.5, color='grey', label=r'other conv.')\n",)

In [560]: Out[560]: ("plt.plot(e_grid, mu_pi, ls='-', lw=1.5, color='red', label=r'$\\pi$')\n",)

In [561]: Out[561]: ("plt.plot(e_grid, mu_k, ls='-', lw=1.5, color='green', label=r'$K$')\n",)

In [562]: Out[562]: ("plt.plot(e_grid, mu_obs['$D^\\\\pm + D^0$'], ls='-', lw=1.5, color='orange', label=r'$D^\\pm, D^0$')\n",)

In [563]: Out[563]: ("plt.plot(e_grid, mu_obs['$D_s$'], ls='-', lw=1.5, color='cyan', label=r'$D_s$')\n",)

In [564]: Out[564]: ("plt.plot(e_grid, mu_obs['$\\\\Lambda_C$'], ls='-', lw=1.5, color='violet', label=r'$\\Lambda_C$')\n",)

In [565]: Out[565]: ("plt.plot(e_grid, mu_obs['unflavored'], ls='-', lw=1.5, color='pink', label=r'unflavored')\n",)

In [566]: Out[566]: ('\n',)

In [567]: Out[567]: ('plt.loglog()\n',)

In [568]: Out[568]: ('plt.xlabel(r"$E_{\\mu}$ [GeV]")\n',)

In [569]: Out[569]: ('plt.ylabel(r"$\\Phi_{\\mu}$ (E/GeV)$^{" + str(mag) + "}$ [cm$^{2}$ s sr GeV]$^{-1}$")\n',)

In [570]: Out[570]: ('plt.xlim([1, 1e9])\n',)

In [571]: Out[571]: ('plt.ylim([1e-6, 1e4])\n',)

In [572]: Out[572]: ("plt.legend(loc='upper right', frameon=False, numpoints=1, ncol=2,fontsize='small')\n",)

In [573]: Out[573]: ('\n',)

In [574]: Out[574]: ('plt.subplot(222)\n',)

In [575]: Out[575]: ("plt.plot(e_grid, numu_total, ls='-', lw=2, color='black', label='total')\n",)

In [576]: Out[576]: ("plt.plot(e_grid, numu_conv, ls='dotted', lw=2, color='black', label=r'total conv.')\n",)

In [577]: Out[577]: ("plt.plot(e_grid, numu_prompt, ls='--', lw=2, color='black', label='total prompt')\n",)

In [578]: Out[578]: ("plt.plot(e_grid, numu_obs['other conv. numu'], ls='--', lw=1.5, color='grey', label=r'other conv.')\n",)

In [579]: Out[579]: ("plt.plot(e_grid, numu_obs['other prompt'], ls='--', lw=1.5, color='lightblue', label=r'other prompt')\n",)

In [580]: Out[580]: ("plt.plot(e_grid, numu_pi, ls='-', lw=1.5, color='red', label=r'$\\pi$')\n",)

In [581]: Out[581]: ("plt.plot(e_grid, numu_k, ls='-', lw=1.5, color='green', label=r'$K$')\n",)

In [582]: Out[582]: ("plt.plot(e_grid, numu_obs['$D^\\\\pm + D^0$'], ls='-', lw=1.5, color='orange', label=r'$D^\\pm, D^0$')\n",)

In [583]: Out[583]: ("plt.plot(e_grid, numu_obs['$D_s$'], ls='-', lw=1.5, color='cyan', label=r'$D_s$')\n",)

In [584]: Out[584]: ("plt.plot(e_grid, numu_obs['$\\\\Lambda_C$'], ls='-', lw=1.5, color='violet', label=r'$\\Lambda_C$')\n",)

In [585]: Out[585]: ('plt.loglog()\n',)

In [586]: Out[586]: ('plt.xlabel(r"$E_{\\nu_{\\mu}}$ [GeV]")\n',)

In [587]: Out[587]: ('plt.ylabel(r"$\\Phi_{\\nu_{\\mu}}$ (E/GeV)$^{" + str(mag) + "}$ [cm$^{2}$ s sr GeV]$^{-1}$")\n',)

In [588]: Out[588]: ('plt.xlim([1, 1e9])\n',)

In [589]: Out[589]: ('plt.ylim([1e-7, 1e1])\n',)

In [590]: Out[590]: ("plt.legend(loc='upper right', frameon=False, numpoints=1, ncol=2,fontsize='small')\n",)

In [591]: Out[591]: ('\n',)

In [592]: Out[592]: ('plt.subplot(223)\n',)

In [593]: Out[593]: ("plt.plot(e_grid, nue_total, ls='-', lw=2, color='black', label='total')\n",)

In [594]: Out[594]: ("plt.plot(e_grid, nue_conv, ls='dotted', lw=2, color='black', label=r'total conv.')\n",)

In [595]: Out[595]: ("plt.plot(e_grid, nue_prompt, ls='--', lw=2, color='black', label='total prompt')\n",)

In [596]: Out[596]: ("plt.plot(e_grid, nue_obs['other conv. nue'], ls='--', lw=1.5, color='grey', label=r'other conv.')\n",)

In [597]: Out[597]: ("plt.plot(e_grid, nue_obs['other prompt'], ls='--', lw=1.5, color='lightblue', label=r'other prompt')\n",)

In [598]: Out[598]: ("plt.plot(e_grid, nue_pi, ls='-', lw=1.5, color='red', label=r'$\\pi$')\n",)

In [599]: Out[599]: ("plt.plot(e_grid, nue_k, ls='-', lw=1.5, color='green', label=r'$K$')\n",)

In [600]: Out[600]: ("plt.plot(e_grid, nue_obs['$K^0_s$'], ls='-', lw=1.5, color='brown', label=r'$K^0_S$')\n",)

In [601]: Out[601]: ("plt.plot(e_grid, nue_obs['$K^0_L$'], ls='-', lw=1.5, color='blue', label=r'$K^0_L$')\n",)

In [602]: Out[602]: ("plt.plot(e_grid, nue_obs['$\\\\mu$ decay'], ls='-', lw=1.5, color='pink', label=r'$\\mu$ decay')\n",)

In [603]: Out[603]: ("plt.plot(e_grid, nue_obs['$D^\\\\pm + D^0$'], ls='-', lw=1.5, color='orange', label=r'$D^\\pm, D^0$')\n",)

In [604]: Out[604]: ("plt.plot(e_grid, nue_obs['$D_s$'], ls='-', lw=1.5, color='cyan', label=r'$D_s$')\n",)

In [605]: Out[605]: ("plt.plot(e_grid, nue_obs['$\\\\Lambda_C$'], ls='-', lw=1.5, color='violet', label=r'$\\Lambda_C$')\n",)

In [606]: Out[606]: ('plt.plot(e_grid, nue_obs["tau decay"], ls=\'-\', lw=1.5, color=\'darkblue\', label=r\'$\\tau$\')\n',)

In [607]: Out[607]: ('\n',)

In [608]: Out[608]: ('plt.loglog()\n',)

In [609]: Out[609]: ('plt.xlabel(r"$E_{\\nu_{e}}$ [GeV]")\n',)

In [610]: Out[610]: ('plt.ylabel(r"$\\Phi_{\\nu_{e}}$ (E/GeV)$^{" + str(mag) + "}$ [cm$^{2}$ s sr GeV]$^{-1}$")\n',)

In [611]: Out[611]: ('plt.xlim([1, 1e9])\n',)

In [612]: Out[612]: ('plt.ylim([1e-7, 1e1])\n',)

In [613]: Out[613]: ("plt.legend(loc=1, frameon=False, numpoints=1, ncol=3,fontsize='small')\n",)

In [614]: Out[614]: ('\n',)

In [615]: Out[615]: ('plt.subplot(224)\n',)

In [616]: Out[616]: ("plt.plot(e_grid, nutau_total, ls='-', lw=2, color='black', alpha=0.6, label='total')\n",)

In [617]: Out[617]: ('plt.plot(e_grid, nutau_obs["tau decay"], ls=\'-\', lw=1.5, color=\'darkblue\', label=r\'$\\tau$\')\n',)

In [618]: Out[618]: ("plt.plot(e_grid, nutau_obs['$D^\\\\pm + D^0$'], ls='-', lw=1.5, color='orange', label=r'$D^\\pm, D^0$')\n",)

In [619]: Out[619]: ("plt.plot(e_grid, nutau_obs['$D_s$'], ls='-', lw=1.5, color='cyan', label=r'$D_s$')\n",)

In [620]: Out[620]: ('\n',)

In [621]: Out[621]: ('\n',)

In [622]: Out[622]: ('plt.loglog()\n',)

In [623]: Out[623]: ('plt.xlabel(r"$E_{\\nu_{\\tau}}$ [GeV]")\n',)

In [624]: Out[624]: ('plt.ylabel(r"$\\Phi_{\\nu_{\\tau}}$ (E/GeV)$^{" + str(mag) + "}$ [cm$^{2}$ s sr GeV]$^{-1}$")\n',)

In [625]: Out[625]: ('plt.xlim([1, 1e9])\n',)

In [626]: Out[626]: ('plt.ylim([1e-9, 1e-2])\n',)

In [627]: Out[627]: ('plt.legend(loc=1, frameon=False, numpoints=1, ncol=2)\n',)

In [628]: Out[628]: "# save('details_SIBYLL2.3')"

In [629]: [0;36m  File [0;32m"<ipython-input-629-f75d1ecd2fcd>"[0;36m, line [0;32m1[0m
[0;31m    ][0m
[0m    ^[0m
[0;31mSyntaxError[0m[0;31m:[0m invalid syntax


In [630]: [0;36m  File [0;32m"<ipython-input-630-ac0737f6bd75>"[0;36m, line [0;32m1[0m
[0;31m    },[0m
[0m    ^[0m
[0;31mSyntaxError[0m[0;31m:[0m invalid syntax


In [631]: [0;36m  File [0;32m"<ipython-input-631-d9bed3b7e151>"[0;36m, line [0;32m1[0m
[0;31m    {[0m
[0m     ^[0m
[0;31mSyntaxError[0m[0;31m:[0m unexpected EOF while parsing


In [632]: [0;36m  File [0;32m"<ipython-input-632-eb187baea13f>"[0;36m, line [0;32m1[0m
[0;31m    "cell_type": "code",[0m
[0m               ^[0m
[0;31mSyntaxError[0m[0;31m:[0m invalid syntax


In [633]: [0;36m  File [0;32m"<ipython-input-633-0174cca6c48c>"[0;36m, line [0;32m1[0m
[0;31m    "execution_count": 14,[0m
[0m                     ^[0m
[0;31mSyntaxError[0m[0;31m:[0m invalid syntax


In [634]: [0;36m  File [0;32m"<ipython-input-634-0f9e64771858>"[0;36m, line [0;32m1[0m
[0;31m    "metadata": {},[0m
[0m              ^[0m
[0;31mSyntaxError[0m[0;31m:[0m invalid syntax


In [635]: [0;36m  File [0;32m"<ipython-input-635-b317a7411d2f>"[0;36m, line [0;32m1[0m
[0;31m    "outputs": [[0m
[0m             ^[0m
[0;31mSyntaxError[0m[0;31m:[0m invalid syntax


In [636]: [0;36m  File [0;32m"<ipython-input-636-d9bed3b7e151>"[0;36m, line [0;32m1[0m
[0;31m    {[0m
[0m     ^[0m
[0;31mSyntaxError[0m[0;31m:[0m unexpected EOF while parsing


In [637]: [0;36m  File [0;32m"<ipython-input-637-9f856e71f5fe>"[0;36m, line [0;32m1[0m
[0;31m    "data": {[0m
[0m          ^[0m
[0;31mSyntaxError[0m[0;31m:[0m invalid syntax


In [638]: [0;36m  File [0;32m"<ipython-input-638-cb695fc766be>"[0;36m, line [0;32m1[0m
[0;31m    "image/png": "iVBORw0KGgoAAAANSUhEUgAAAvEAAAH0CAYAAAC0HXLPAAAABHNCSVQICAgIfAhkiAAAAAlwSFlz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\n",[0m
[0m               ^[0m
[0;31mSyntaxError[0m[0;31m:[0m invalid syntax


In [639]: [0;36m  File [0;32m"<ipython-input-639-eab4b261d908>"[0;36m, line [0;32m1[0m
[0;31m    "text/plain": [[0m
[0m                ^[0m
[0;31mSyntaxError[0m[0;31m:[0m invalid syntax


In [640]: Out[640]: '<matplotlib.figure.Figure at 0x12919e2d0>'

In [641]: [0;36m  File [0;32m"<ipython-input-641-f75d1ecd2fcd>"[0;36m, line [0;32m1[0m
[0;31m    ][0m
[0m    ^[0m
[0;31mSyntaxError[0m[0;31m:[0m invalid syntax


In [642]: [0;36m  File [0;32m"<ipython-input-642-ac0737f6bd75>"[0;36m, line [0;32m1[0m
[0;31m    },[0m
[0m    ^[0m
[0;31mSyntaxError[0m[0;31m:[0m invalid syntax


In [643]: [0;36m  File [0;32m"<ipython-input-643-0f9e64771858>"[0;36m, line [0;32m1[0m
[0;31m    "metadata": {},[0m
[0m              ^[0m
[0;31mSyntaxError[0m[0;31m:[0m invalid syntax


In [644]: [0;36m  File [0;32m"<ipython-input-644-cdf582797161>"[0;36m, line [0;32m1[0m
[0;31m    "output_type": "display_data"[0m
[0m                 ^[0m
[0;31mSyntaxError[0m[0;31m:[0m invalid syntax


In [645]: [0;36m  File [0;32m"<ipython-input-645-7d9d25f71cb8>"[0;36m, line [0;32m1[0m
[0;31m    }[0m
[0m    ^[0m
[0;31mSyntaxError[0m[0;31m:[0m invalid syntax


In [646]: [0;36m  File [0;32m"<ipython-input-646-27fc3ba6872a>"[0;36m, line [0;32m1[0m
[0;31m    ],[0m
[0m    ^[0m
[0;31mSyntaxError[0m[0;31m:[0m invalid syntax


In [647]: [0;36m  File [0;32m"<ipython-input-647-1379479f1eba>"[0;36m, line [0;32m1[0m
[0;31m    "source": [[0m
[0m            ^[0m
[0;31mSyntaxError[0m[0;31m:[0m invalid syntax


In [648]: Out[648]: ("# color_spectrum = ['b', 'r', 'g', 'orange', 'cyan', 'violet',\n",)

In [649]: Out[649]: ("#                   'brown', 'pink', 'yellow', 'lightblue']\n",)

In [650]: Out[650]: ('\n',)

In [651]: Out[651]: ('fig = plt.figure(figsize=(11, 7.5))\n',)

In [652]: Out[652]: ('fig.set_tight_layout(dict(rect=[0.01, 0.01, 0.97, 0.95]))\n',)

In [653]: Out[653]: ('e_grid = mceq_run.e_grid\n',)

In [654]: Out[654]: ("# plt.suptitle('{0}, broken power-law primary model.'.format('SIBYLL2.3'))\n",)

In [655]: Out[655]: ('plt.subplot(221)        \n',)

In [656]: Out[656]: ("plt.plot(e_grid, mu_total, ls='-', lw=2, color='black', label='total')\n",)

In [657]: Out[657]: ("plt.plot(e_grid, mu_conv, ls='dotted', lw=2, color='black', label=r'total conv.')\n",)

In [658]: Out[658]: ("plt.plot(e_grid, mu_prompt, ls='--', lw=2, color='black', label='total prompt')\n",)

In [659]: Out[659]: ("plt.plot(e_grid, mu_obs['other prompt'], ls='--', lw=1.5, color='lightblue', label=r'other prompt')\n",)

In [660]: Out[660]: ("plt.plot(e_grid, mu_obs['other conv. mu'], ls='--', lw=1.5, color='grey', label=r'other conv.')\n",)

In [661]: Out[661]: ("plt.plot(e_grid, mu_pi, ls='-', lw=1.5, color='red', label=r'$\\pi$')\n",)

In [662]: Out[662]: ("plt.plot(e_grid, mu_k, ls='-', lw=1.5, color='green', label=r'$K$')\n",)

In [663]: Out[663]: ("plt.plot(e_grid, mu_obs['$D^\\\\pm + D^0$'], ls='-', lw=1.5, color='orange', label=r'$D^\\pm, D^0$')\n",)

In [664]: Out[664]: ("plt.plot(e_grid, mu_obs['$D_s$'], ls='-', lw=1.5, color='cyan', label=r'$D_s$')\n",)

In [665]: Out[665]: ("plt.plot(e_grid, mu_obs['$\\\\Lambda_C$'], ls='-', lw=1.5, color='violet', label=r'$\\Lambda_C$')\n",)

In [666]: Out[666]: ("plt.plot(e_grid, mu_obs['unflavored'], ls='-', lw=1.5, color='pink', label=r'unflavored')\n",)

In [667]: Out[667]: ('\n',)

In [668]: Out[668]: ('plt.loglog()\n',)

In [669]: Out[669]: ('plt.xlabel(r"$E_{\\mu}$ [GeV]")\n',)

In [670]: Out[670]: ('plt.ylabel(r"$\\Phi_{\\mu}$ (E/GeV)$^{" + str(mag) + "}$ [cm$^{2}$ s sr GeV]$^{-1}$")\n',)

In [671]: Out[671]: ('plt.xlim([1, 5e2])\n',)

In [672]: Out[672]: ('plt.ylim([1e-6, 1e4])\n',)

In [673]: Out[673]: ("plt.legend(loc='upper right', frameon=False, numpoints=1, ncol=3,fontsize='small')\n",)

In [674]: Out[674]: ('\n',)

In [675]: Out[675]: ('plt.subplot(222)\n',)

In [676]: Out[676]: ("plt.plot(e_grid, numu_total, ls='-', lw=2, color='black', label='total')\n",)

In [677]: Out[677]: ("plt.plot(e_grid, numu_conv, ls='dotted', lw=2, color='black', label=r'total conv.')\n",)

In [678]: Out[678]: ("plt.plot(e_grid, numu_prompt, ls='--', lw=2, color='black', label='total prompt')\n",)

In [679]: Out[679]: ("plt.plot(e_grid, numu_obs['other conv. numu'], ls='--', lw=1.5, color='grey', label=r'other conv.')\n",)

In [680]: Out[680]: ("plt.plot(e_grid, numu_obs['other prompt'], ls='--', lw=1.5, color='lightblue', label=r'other prompt')\n",)

In [681]: Out[681]: ("plt.plot(e_grid, numu_pi, ls='-', lw=1.5, color='red', label=r'$\\pi$')\n",)

In [682]: Out[682]: ("plt.plot(e_grid, numu_k, ls='-', lw=1.5, color='green', label=r'$K$')\n",)

In [683]: Out[683]: ("plt.plot(e_grid, numu_obs['$D^\\\\pm + D^0$'], ls='-', lw=1.5, color='orange', label=r'$D^\\pm, D^0$')\n",)

In [684]: Out[684]: ("plt.plot(e_grid, numu_obs['$D_s$'], ls='-', lw=1.5, color='cyan', label=r'$D_s$')\n",)

In [685]: Out[685]: ("plt.plot(e_grid, numu_obs['$\\\\Lambda_C$'], ls='-', lw=1.5, color='violet', label=r'$\\Lambda_C$')\n",)

In [686]: Out[686]: ('plt.loglog()\n',)

In [687]: Out[687]: ('plt.xlabel(r"$E_{\\nu_{\\mu}}$ [GeV]")\n',)

In [688]: Out[688]: ('plt.ylabel(r"$\\Phi_{\\nu_{\\mu}}$ (E/GeV)$^{" + str(mag) + "}$ [cm$^{2}$ s sr GeV]$^{-1}$")\n',)

In [689]: Out[689]: ('plt.xlim([1, 5e2])\n',)

In [690]: Out[690]: ('plt.ylim([1e-7, 1e4])\n',)

In [691]: Out[691]: ("plt.legend(loc='upper right', frameon=False, numpoints=1, ncol=2,fontsize='small')\n",)

In [692]: Out[692]: ('\n',)

In [693]: Out[693]: ('plt.subplot(223)\n',)

In [694]: Out[694]: ("plt.plot(e_grid, nue_total, ls='-', lw=2, color='black', label='total')\n",)

In [695]: Out[695]: ("plt.plot(e_grid, nue_conv, ls='dotted', lw=2, color='black', label=r'total conv.')\n",)

In [696]: Out[696]: ("plt.plot(e_grid, nue_prompt, ls='--', lw=2, color='black', label='total prompt')\n",)

In [697]: Out[697]: ("plt.plot(e_grid, nue_obs['other conv. nue'], ls='--', lw=1.5, color='grey', label=r'other conv.')\n",)

In [698]: Out[698]: ("plt.plot(e_grid, nue_obs['other prompt'], ls='--', lw=1.5, color='lightblue', label=r'other prompt')\n",)

In [699]: Out[699]: ("plt.plot(e_grid, nue_pi, ls='-', lw=1.5, color='red', label=r'$\\pi$')\n",)

In [700]: Out[700]: ("plt.plot(e_grid, nue_k, ls='-', lw=1.5, color='green', label=r'$K$')\n",)

In [701]: Out[701]: ("plt.plot(e_grid, nue_obs['$K^0_s$'], ls='-', lw=1.5, color='brown', label=r'$K^0_S$')\n",)

In [702]: Out[702]: ("plt.plot(e_grid, nue_obs['$K^0_L$'], ls='-', lw=1.5, color='blue', label=r'$K^0_L$')\n",)

In [703]: Out[703]: ("plt.plot(e_grid, nue_obs['$\\\\mu$ decay'], ls='-', lw=1.5, color='pink', label=r'$\\mu$ decay')\n",)

In [704]: Out[704]: ("plt.plot(e_grid, nue_obs['$D^\\\\pm + D^0$'], ls='-', lw=1.5, color='orange', label=r'$D^\\pm, D^0$')\n",)

In [705]: Out[705]: ("plt.plot(e_grid, nue_obs['$D_s$'], ls='-', lw=1.5, color='cyan', label=r'$D_s$')\n",)

In [706]: Out[706]: ("plt.plot(e_grid, nue_obs['$\\\\Lambda_C$'], ls='-', lw=1.5, color='violet', label=r'$\\Lambda_C$')\n",)

In [707]: Out[707]: ('plt.plot(e_grid, nue_obs["tau decay"], ls=\'-\', lw=1.5, color=\'darkblue\', label=r\'$\\tau$\')\n',)

In [708]: Out[708]: ('\n',)

In [709]: Out[709]: ('plt.loglog()\n',)

In [710]: Out[710]: ('plt.xlabel(r"$E_{\\nu_{e}}$ [GeV]")\n',)

In [711]: Out[711]: ('plt.ylabel(r"$\\Phi_{\\nu_{e}}$ (E/GeV)$^{" + str(mag) + "}$ [cm$^{2}$ s sr GeV]$^{-1}$")\n',)

In [712]: Out[712]: ('plt.xlim([1, 5e2])\n',)

In [713]: Out[713]: ('plt.ylim([1e-7, 1e3])\n',)

In [714]: Out[714]: ("plt.legend(loc=1, frameon=False, numpoints=1, ncol=3,fontsize='small')\n",)

In [715]: Out[715]: ('\n',)

In [716]: Out[716]: ('plt.subplot(224)\n',)

In [717]: Out[717]: ("plt.plot(e_grid, nutau_total, ls='-', lw=2, color='black', alpha=0.6, label='total')\n",)

In [718]: Out[718]: ('plt.plot(e_grid, nutau_obs["tau decay"], ls=\'-\', lw=1.5, color=\'darkblue\', label=r\'$\\tau$\')\n',)

In [719]: Out[719]: ("plt.plot(e_grid, nutau_obs['$D^\\\\pm + D^0$'], ls='-', lw=1.5, color='orange', label=r'$D^\\pm, D^0$')\n",)

In [720]: Out[720]: ("plt.plot(e_grid, nutau_obs['$D_s$'], ls='-', lw=1.5, color='cyan', label=r'$D_s$')\n",)

In [721]: Out[721]: ('\n',)

In [722]: Out[722]: ('\n',)

In [723]: Out[723]: ('plt.loglog()\n',)

In [724]: Out[724]: ('plt.xlabel(r"$E_{\\nu_{\\tau}}$ [GeV]")\n',)

In [725]: Out[725]: ('plt.ylabel(r"$\\Phi_{\\nu_{\\tau}}$ (E/GeV)$^{" + str(mag) + "}$ [cm$^{2}$ s sr GeV]$^{-1}$")\n',)

In [726]: Out[726]: ('plt.xlim([1, 5e2])\n',)

In [727]: Out[727]: ('plt.ylim([1e-9, 1e-2])\n',)

In [728]: Out[728]: ('plt.legend(loc=1, frameon=False, numpoints=1, ncol=2)\n',)

In [729]: Out[729]: "plt.savefig('details_SIBYLL2.3_LE_DPM.pdf')"

In [730]: [0;36m  File [0;32m"<ipython-input-730-f75d1ecd2fcd>"[0;36m, line [0;32m1[0m
[0;31m    ][0m
[0m    ^[0m
[0;31mSyntaxError[0m[0;31m:[0m invalid syntax


In [731]: [0;36m  File [0;32m"<ipython-input-731-ac0737f6bd75>"[0;36m, line [0;32m1[0m
[0;31m    },[0m
[0m    ^[0m
[0;31mSyntaxError[0m[0;31m:[0m invalid syntax


In [732]: [0;36m  File [0;32m"<ipython-input-732-d9bed3b7e151>"[0;36m, line [0;32m1[0m
[0;31m    {[0m
[0m     ^[0m
[0;31mSyntaxError[0m[0;31m:[0m unexpected EOF while parsing


In [733]: [0;36m  File [0;32m"<ipython-input-733-eb187baea13f>"[0;36m, line [0;32m1[0m
[0;31m    "cell_type": "code",[0m
[0m               ^[0m
[0;31mSyntaxError[0m[0;31m:[0m invalid syntax


In [734]: [0;36m  File [0;32m"<ipython-input-734-0174cca6c48c>"[0;36m, line [0;32m1[0m
[0;31m    "execution_count": 14,[0m
[0m                     ^[0m
[0;31mSyntaxError[0m[0;31m:[0m invalid syntax


In [735]: [0;36m  File [0;32m"<ipython-input-735-0f9e64771858>"[0;36m, line [0;32m1[0m
[0;31m    "metadata": {},[0m
[0m              ^[0m
[0;31mSyntaxError[0m[0;31m:[0m invalid syntax


In [736]: [0;36m  File [0;32m"<ipython-input-736-b317a7411d2f>"[0;36m, line [0;32m1[0m
[0;31m    "outputs": [[0m
[0m             ^[0m
[0;31mSyntaxError[0m[0;31m:[0m invalid syntax


In [737]: [0;36m  File [0;32m"<ipython-input-737-d9bed3b7e151>"[0;36m, line [0;32m1[0m
[0;31m    {[0m
[0m     ^[0m
[0;31mSyntaxError[0m[0;31m:[0m unexpected EOF while parsing


In [738]: [0;36m  File [0;32m"<ipython-input-738-9f856e71f5fe>"[0;36m, line [0;32m1[0m
[0;31m    "data": {[0m
[0m          ^[0m
[0;31mSyntaxError[0m[0;31m:[0m invalid syntax


In [739]: [0;36m  File [0;32m"<ipython-input-739-92c3584daf04>"[0;36m, line [0;32m1[0m
[0;31m    "image/png": "iVBORw0KGgoAAAANSUhEUgAAAYQAAAEGCAYAAABlxeIAAAAABHNCSVQICAgIfAhkiAAAAAlwSFlz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\nRU5ErkJggg==\n",[0m
[0m               ^[0m
[0;31mSyntaxError[0m[0;31m:[0m invalid syntax


In [740]: [0;36m  File [0;32m"<ipython-input-740-eab4b261d908>"[0;36m, line [0;32m1[0m
[0;31m    "text/plain": [[0m
[0m                ^[0m
[0;31mSyntaxError[0m[0;31m:[0m invalid syntax


In [741]: Out[741]: '<matplotlib.figure.Figure at 0x10ddb7e10>'

In [742]: [0;36m  File [0;32m"<ipython-input-742-f75d1ecd2fcd>"[0;36m, line [0;32m1[0m
[0;31m    ][0m
[0m    ^[0m
[0;31mSyntaxError[0m[0;31m:[0m invalid syntax


In [743]: [0;36m  File [0;32m"<ipython-input-743-ac0737f6bd75>"[0;36m, line [0;32m1[0m
[0;31m    },[0m
[0m    ^[0m
[0;31mSyntaxError[0m[0;31m:[0m invalid syntax


In [744]: [0;36m  File [0;32m"<ipython-input-744-0f9e64771858>"[0;36m, line [0;32m1[0m
[0;31m    "metadata": {},[0m
[0m              ^[0m
[0;31mSyntaxError[0m[0;31m:[0m invalid syntax


In [745]: [0;36m  File [0;32m"<ipython-input-745-cdf582797161>"[0;36m, line [0;32m1[0m
[0;31m    "output_type": "display_data"[0m
[0m                 ^[0m
[0;31mSyntaxError[0m[0;31m:[0m invalid syntax


In [746]: [0;36m  File [0;32m"<ipython-input-746-7d9d25f71cb8>"[0;36m, line [0;32m1[0m
[0;31m    }[0m
[0m    ^[0m
[0;31mSyntaxError[0m[0;31m:[0m invalid syntax


In [747]: [0;36m  File [0;32m"<ipython-input-747-27fc3ba6872a>"[0;36m, line [0;32m1[0m
[0;31m    ],[0m
[0m    ^[0m
[0;31mSyntaxError[0m[0;31m:[0m invalid syntax


In [748]: [0;36m  File [0;32m"<ipython-input-748-1379479f1eba>"[0;36m, line [0;32m1[0m
[0;31m    "source": [[0m
[0m            ^[0m
[0;31mSyntaxError[0m[0;31m:[0m invalid syntax


In [749]: Out[749]: ('fig = plt.figure(figsize=(5.5, 3.75))\n',)

In [750]: Out[750]: ("plt.plot(e_grid, mu_total, ls='-', lw=2, color='black', label='total')\n",)

In [751]: Out[751]: ("plt.plot(e_grid, mu_conv, ls='dotted', lw=2, color='black', label=r'total conv.')\n",)

In [752]: Out[752]: ("plt.plot(e_grid, mu_prompt, ls='--', lw=2, color='black', label='total prompt')\n",)

In [753]: Out[753]: ("plt.plot(e_grid, mu_obs['other prompt'], ls='--', lw=1.5, color='lightblue', label=r'other prompt')\n",)

In [754]: Out[754]: ("plt.plot(e_grid, mu_obs['other conv. mu'], ls='--', lw=1.5, color='grey', label=r'other conv.')\n",)

In [755]: Out[755]: ("plt.plot(e_grid, mu_pi, ls='-', lw=1.5, color='red', label=r'$\\pi$')\n",)

In [756]: Out[756]: ("plt.plot(e_grid, mu_k, ls='-', lw=1.5, color='green', label=r'$K$')\n",)

In [757]: Out[757]: ("plt.plot(e_grid, mu_obs['$D^\\\\pm + D^0$'], ls='-', lw=1.5, color='orange', label=r'$D^\\pm, D^0$')\n",)

In [758]: Out[758]: ("plt.plot(e_grid, mu_obs['$D_s$'], ls='-', lw=1.5, color='cyan', label=r'$D_s$')\n",)

In [759]: Out[759]: ("plt.plot(e_grid, mu_obs['$\\\\Lambda_C$'], ls='-', lw=1.5, color='violet', label=r'$\\Lambda_C$')\n",)

In [760]: Out[760]: ("plt.plot(e_grid, mu_obs['unflavored'], ls='-', lw=1.5, color='pink', label=r'unflavored')\n",)

In [761]: Out[761]: ('\n',)

In [762]: Out[762]: ('plt.loglog()\n',)

In [763]: Out[763]: ('plt.xlabel(r"$E_{\\mu}$ [GeV]")\n',)

In [764]: Out[764]: ('plt.ylabel(r"$\\Phi_{\\mu}$ (E/GeV)$^{" + str(mag) + "}$ [cm$^{2}$ s sr GeV]$^{-1}$")\n',)

In [765]: Out[765]: ('plt.xlim([1, 1e9])\n',)

In [766]: Out[766]: ('plt.ylim([1e-6, 1e4])\n',)

In [767]: Out[767]: ("plt.legend(loc='upper right', frameon=False, numpoints=1, ncol=2)\n",)

In [768]: Out[768]: ('plt.tight_layout()\n',)

In [769]: Out[769]: "# plt.savefig('')"

In [770]: [0;36m  File [0;32m"<ipython-input-770-f75d1ecd2fcd>"[0;36m, line [0;32m1[0m
[0;31m    ][0m
[0m    ^[0m
[0;31mSyntaxError[0m[0;31m:[0m invalid syntax


In [771]: [0;36m  File [0;32m"<ipython-input-771-ac0737f6bd75>"[0;36m, line [0;32m1[0m
[0;31m    },[0m
[0m    ^[0m
[0;31mSyntaxError[0m[0;31m:[0m invalid syntax


In [772]: [0;36m  File [0;32m"<ipython-input-772-d9bed3b7e151>"[0;36m, line [0;32m1[0m
[0;31m    {[0m
[0m     ^[0m
[0;31mSyntaxError[0m[0;31m:[0m unexpected EOF while parsing


In [773]: [0;36m  File [0;32m"<ipython-input-773-eb187baea13f>"[0;36m, line [0;32m1[0m
[0;31m    "cell_type": "code",[0m
[0m               ^[0m
[0;31mSyntaxError[0m[0;31m:[0m invalid syntax


In [774]: [0;36m  File [0;32m"<ipython-input-774-104237bfd440>"[0;36m, line [0;32m1[0m
[0;31m    "execution_count": 15,[0m
[0m                     ^[0m
[0;31mSyntaxError[0m[0;31m:[0m invalid syntax


In [775]: [0;36m  File [0;32m"<ipython-input-775-0f9e64771858>"[0;36m, line [0;32m1[0m
[0;31m    "metadata": {},[0m
[0m              ^[0m
[0;31mSyntaxError[0m[0;31m:[0m invalid syntax


In [776]: [0;36m  File [0;32m"<ipython-input-776-b317a7411d2f>"[0;36m, line [0;32m1[0m
[0;31m    "outputs": [[0m
[0m             ^[0m
[0;31mSyntaxError[0m[0;31m:[0m invalid syntax


In [777]: [0;36m  File [0;32m"<ipython-input-777-d9bed3b7e151>"[0;36m, line [0;32m1[0m
[0;31m    {[0m
[0m     ^[0m
[0;31mSyntaxError[0m[0;31m:[0m unexpected EOF while parsing


In [778]: [0;36m  File [0;32m"<ipython-input-778-9f856e71f5fe>"[0;36m, line [0;32m1[0m
[0;31m    "data": {[0m
[0m          ^[0m
[0;31mSyntaxError[0m[0;31m:[0m invalid syntax


In [779]: [0;36m  File [0;32m"<ipython-input-779-e38691d75fa3>"[0;36m, line [0;32m1[0m
[0;31m    "image/png": "iVBORw0KGgoAAAANSUhEUgAAAYQAAAEGCAYAAABlxeIAAAAABHNCSVQICAgIfAhkiAAAAAlwSFlz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\n",[0m
[0m               ^[0m
[0;31mSyntaxError[0m[0;31m:[0m invalid syntax


In [780]: [0;36m  File [0;32m"<ipython-input-780-eab4b261d908>"[0;36m, line [0;32m1[0m
[0;31m    "text/plain": [[0m
[0m                ^[0m
[0;31mSyntaxError[0m[0;31m:[0m invalid syntax


In [781]: Out[781]: '<matplotlib.figure.Figure at 0x10ddb71d0>'

In [782]: [0;36m  File [0;32m"<ipython-input-782-f75d1ecd2fcd>"[0;36m, line [0;32m1[0m
[0;31m    ][0m
[0m    ^[0m
[0;31mSyntaxError[0m[0;31m:[0m invalid syntax


In [783]: [0;36m  File [0;32m"<ipython-input-783-ac0737f6bd75>"[0;36m, line [0;32m1[0m
[0;31m    },[0m
[0m    ^[0m
[0;31mSyntaxError[0m[0;31m:[0m invalid syntax


In [784]: [0;36m  File [0;32m"<ipython-input-784-0f9e64771858>"[0;36m, line [0;32m1[0m
[0;31m    "metadata": {},[0m
[0m              ^[0m
[0;31mSyntaxError[0m[0;31m:[0m invalid syntax


In [785]: [0;36m  File [0;32m"<ipython-input-785-cdf582797161>"[0;36m, line [0;32m1[0m
[0;31m    "output_type": "display_data"[0m
[0m                 ^[0m
[0;31mSyntaxError[0m[0;31m:[0m invalid syntax


In [786]: [0;36m  File [0;32m"<ipython-input-786-7d9d25f71cb8>"[0;36m, line [0;32m1[0m
[0;31m    }[0m
[0m    ^[0m
[0;31mSyntaxError[0m[0;31m:[0m invalid syntax


In [787]: [0;36m  File [0;32m"<ipython-input-787-27fc3ba6872a>"[0;36m, line [0;32m1[0m
[0;31m    ],[0m
[0m    ^[0m
[0;31mSyntaxError[0m[0;31m:[0m invalid syntax


In [788]: [0;36m  File [0;32m"<ipython-input-788-1379479f1eba>"[0;36m, line [0;32m1[0m
[0;31m    "source": [[0m
[0m            ^[0m
[0;31mSyntaxError[0m[0;31m:[0m invalid syntax


In [789]: Out[789]: ('fig = plt.figure(figsize=(5.5, 3.75))\n',)

In [790]: Out[790]: ("plt.plot(e_grid, numu_total, ls='-', lw=2, color='black', label='total')\n",)

In [791]: Out[791]: ("plt.plot(e_grid, numu_conv, ls='dotted', lw=2, color='black', label=r'total conv.')\n",)

In [792]: Out[792]: ("plt.plot(e_grid, numu_prompt, ls='--', lw=2, color='black', label='total prompt')\n",)

In [793]: Out[793]: ("plt.plot(e_grid, numu_obs['other conv. numu'], ls='--', lw=1.5, color='grey', label=r'other conv.')\n",)

In [794]: Out[794]: ("plt.plot(e_grid, numu_obs['other prompt'], ls='--', lw=1.5, color='lightblue', label=r'other prompt')\n",)

In [795]: Out[795]: ("plt.plot(e_grid, numu_pi, ls='-', lw=1.5, color='red', label=r'$\\pi$')\n",)

In [796]: Out[796]: ("plt.plot(e_grid, numu_k, ls='-', lw=1.5, color='green', label=r'$K$')\n",)

In [797]: Out[797]: ("plt.plot(e_grid, numu_obs['$D^\\\\pm + D^0$'], ls='-', lw=1.5, color='orange', label=r'$D^\\pm, D^0$')\n",)

In [798]: Out[798]: ("plt.plot(e_grid, numu_obs['$D_s$'], ls='-', lw=1.5, color='cyan', label=r'$D_s$')\n",)

In [799]: Out[799]: ("plt.plot(e_grid, numu_obs['$\\\\Lambda_C$'], ls='-', lw=1.5, color='violet', label=r'$\\Lambda_C$')\n",)

In [800]: Out[800]: ('plt.loglog()\n',)

In [801]: Out[801]: ('plt.xlabel(r"Myon-Neutrino-Energie $E_{\\nu_{\\mu}}$ [GeV]")\n',)

In [802]: Out[802]: ('plt.ylabel(r"$\\Phi_{\\nu_{\\mu}}$ (E/GeV)$^{" + str(mag) + "}$ [cm$^{2}$ s sr GeV]$^{-1}$")\n',)

In [803]: Out[803]: ('plt.xlim([50, 1e9])\n',)

In [804]: Out[804]: ('plt.ylim([1e-7, 1e1])\n',)

In [805]: Out[805]: ("plt.legend(loc='upper right', frameon=False, numpoints=1, ncol=2)\n",)

In [806]: Out[806]: ('plt.tight_layout()\n',)

In [807]: Out[807]: "# plt.savefig('')"

In [808]: [0;36m  File [0;32m"<ipython-input-808-f75d1ecd2fcd>"[0;36m, line [0;32m1[0m
[0;31m    ][0m
[0m    ^[0m
[0;31mSyntaxError[0m[0;31m:[0m invalid syntax


In [809]: [0;36m  File [0;32m"<ipython-input-809-ac0737f6bd75>"[0;36m, line [0;32m1[0m
[0;31m    },[0m
[0m    ^[0m
[0;31mSyntaxError[0m[0;31m:[0m invalid syntax


In [810]: [0;36m  File [0;32m"<ipython-input-810-d9bed3b7e151>"[0;36m, line [0;32m1[0m
[0;31m    {[0m
[0m     ^[0m
[0;31mSyntaxError[0m[0;31m:[0m unexpected EOF while parsing


In [811]: [0;36m  File [0;32m"<ipython-input-811-eb187baea13f>"[0;36m, line [0;32m1[0m
[0;31m    "cell_type": "code",[0m
[0m               ^[0m
[0;31mSyntaxError[0m[0;31m:[0m invalid syntax


In [812]: [0;36m  File [0;32m"<ipython-input-812-d560a1ecb483>"[0;36m, line [0;32m1[0m
[0;31m    "execution_count": 17,[0m
[0m                     ^[0m
[0;31mSyntaxError[0m[0;31m:[0m invalid syntax


In [813]: [0;36m  File [0;32m"<ipython-input-813-0f9e64771858>"[0;36m, line [0;32m1[0m
[0;31m    "metadata": {},[0m
[0m              ^[0m
[0;31mSyntaxError[0m[0;31m:[0m invalid syntax


In [814]: [0;36m  File [0;32m"<ipython-input-814-b317a7411d2f>"[0;36m, line [0;32m1[0m
[0;31m    "outputs": [[0m
[0m             ^[0m
[0;31mSyntaxError[0m[0;31m:[0m invalid syntax


In [815]: [0;36m  File [0;32m"<ipython-input-815-d9bed3b7e151>"[0;36m, line [0;32m1[0m
[0;31m    {[0m
[0m     ^[0m
[0;31mSyntaxError[0m[0;31m:[0m unexpected EOF while parsing


In [816]: [0;36m  File [0;32m"<ipython-input-816-9f856e71f5fe>"[0;36m, line [0;32m1[0m
[0;31m    "data": {[0m
[0m          ^[0m
[0;31mSyntaxError[0m[0;31m:[0m invalid syntax


In [817]: [0;36m  File [0;32m"<ipython-input-817-b87aa7c19800>"[0;36m, line [0;32m1[0m
[0;31m    "image/png": "iVBORw0KGgoAAAANSUhEUgAAAYQAAAEGCAYAAABlxeIAAAAABHNCSVQICAgIfAhkiAAAAAlwSFlz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\nizKHAXOfz0cAAAAASUVORK5CYII=\n",[0m
[0m               ^[0m
[0;31mSyntaxError[0m[0;31m:[0m invalid syntax


In [818]: [0;36m  File [0;32m"<ipython-input-818-eab4b261d908>"[0;36m, line [0;32m1[0m
[0;31m    "text/plain": [[0m
[0m                ^[0m
[0;31mSyntaxError[0m[0;31m:[0m invalid syntax


In [819]: Out[819]: '<matplotlib.figure.Figure at 0x1151b5d90>'

In [820]: [0;36m  File [0;32m"<ipython-input-820-f75d1ecd2fcd>"[0;36m, line [0;32m1[0m
[0;31m    ][0m
[0m    ^[0m
[0;31mSyntaxError[0m[0;31m:[0m invalid syntax


In [821]: [0;36m  File [0;32m"<ipython-input-821-ac0737f6bd75>"[0;36m, line [0;32m1[0m
[0;31m    },[0m
[0m    ^[0m
[0;31mSyntaxError[0m[0;31m:[0m invalid syntax


In [822]: [0;36m  File [0;32m"<ipython-input-822-0f9e64771858>"[0;36m, line [0;32m1[0m
[0;31m    "metadata": {},[0m
[0m              ^[0m
[0;31mSyntaxError[0m[0;31m:[0m invalid syntax


In [823]: [0;36m  File [0;32m"<ipython-input-823-cdf582797161>"[0;36m, line [0;32m1[0m
[0;31m    "output_type": "display_data"[0m
[0m                 ^[0m
[0;31mSyntaxError[0m[0;31m:[0m invalid syntax


In [824]: [0;36m  File [0;32m"<ipython-input-824-7d9d25f71cb8>"[0;36m, line [0;32m1[0m
[0;31m    }[0m
[0m    ^[0m
[0;31mSyntaxError[0m[0;31m:[0m invalid syntax


In [825]: [0;36m  File [0;32m"<ipython-input-825-27fc3ba6872a>"[0;36m, line [0;32m1[0m
[0;31m    ],[0m
[0m    ^[0m
[0;31mSyntaxError[0m[0;31m:[0m invalid syntax


In [826]: [0;36m  File [0;32m"<ipython-input-826-1379479f1eba>"[0;36m, line [0;32m1[0m
[0;31m    "source": [[0m
[0m            ^[0m
[0;31mSyntaxError[0m[0;31m:[0m invalid syntax


In [827]: Out[827]: ('fig = plt.figure(figsize=(5.5, 3.75))\n',)

In [828]: Out[828]: ("plt.plot(e_grid, nue_total, ls='-', lw=2, color='black', label='total')\n",)

In [829]: Out[829]: ("plt.plot(e_grid, nue_conv, ls='dotted', lw=2, color='black', label=r'total conv.')\n",)

In [830]: Out[830]: ("plt.plot(e_grid, nue_prompt, ls='--', lw=2, color='black', label='total prompt')\n",)

In [831]: Out[831]: ("plt.plot(e_grid, nue_obs['other conv. nue'], ls='--', lw=1.5, color='grey', label=r'other conv.')\n",)

In [832]: Out[832]: ("plt.plot(e_grid, nue_obs['other prompt'], ls='--', lw=1.5, color='lightblue', label=r'other prompt')\n",)

In [833]: Out[833]: ("plt.plot(e_grid, nue_pi, ls='-', lw=1.5, color='red', label=r'$\\pi$')\n",)

In [834]: Out[834]: ("plt.plot(e_grid, nue_k, ls='-', lw=1.5, color='green', label=r'$K$')\n",)

In [835]: Out[835]: ("plt.plot(e_grid, nue_obs['$K^0_s$'], ls='-', lw=1.5, color='brown', label=r'$K^0_S$')\n",)

In [836]: Out[836]: ("plt.plot(e_grid, nue_obs['$K^0_L$'], ls='-', lw=1.5, color='blue', label=r'$K^0_L$')\n",)

In [837]: Out[837]: ("plt.plot(e_grid, nue_obs['$\\\\mu$ decay'], ls='-', lw=1.5, color='pink', label=r'$\\mu$ decay')\n",)

In [838]: Out[838]: ("plt.plot(e_grid, nue_obs['$D^\\\\pm + D^0$'], ls='-', lw=1.5, color='orange', label=r'$D^\\pm, D^0$')\n",)

In [839]: Out[839]: ("plt.plot(e_grid, nue_obs['$D_s$'], ls='-', lw=1.5, color='cyan', label=r'$D_s$')\n",)

In [840]: Out[840]: ("plt.plot(e_grid, nue_obs['$\\\\Lambda_C$'], ls='-', lw=1.5, color='violet', label=r'$\\Lambda_C$')\n",)

In [841]: Out[841]: ('plt.plot(e_grid, nue_obs["tau decay"], ls=\'-\', lw=1.5, color=\'darkblue\', label=r\'$\\tau$\')\n',)

In [842]: Out[842]: ('\n',)

In [843]: Out[843]: ('plt.loglog()\n',)

In [844]: Out[844]: ('plt.xlabel(r"$E_{\\nu_{e}}$ [GeV]")\n',)

In [845]: Out[845]: ('plt.ylabel(r"$\\Phi_{\\nu_{e}}$ (E/GeV)$^{" + str(mag) + "}$ [cm$^{2}$ s sr GeV]$^{-1}$")\n',)

In [846]: Out[846]: ('plt.xlim([50, 1e9])\n',)

In [847]: Out[847]: ('plt.ylim([1e-7, 1e2])\n',)

In [848]: Out[848]: ('plt.legend(loc=1, frameon=False, numpoints=1, ncol=3)\n',)

In [849]: Out[849]: ('plt.tight_layout()\n',)

In [850]: Out[850]: "# plt.savefig('')"

In [851]: [0;36m  File [0;32m"<ipython-input-851-f75d1ecd2fcd>"[0;36m, line [0;32m1[0m
[0;31m    ][0m
[0m    ^[0m
[0;31mSyntaxError[0m[0;31m:[0m invalid syntax


In [852]: [0;36m  File [0;32m"<ipython-input-852-ac0737f6bd75>"[0;36m, line [0;32m1[0m
[0;31m    },[0m
[0m    ^[0m
[0;31mSyntaxError[0m[0;31m:[0m invalid syntax


In [853]: [0;36m  File [0;32m"<ipython-input-853-d9bed3b7e151>"[0;36m, line [0;32m1[0m
[0;31m    {[0m
[0m     ^[0m
[0;31mSyntaxError[0m[0;31m:[0m unexpected EOF while parsing


In [854]: [0;36m  File [0;32m"<ipython-input-854-eb187baea13f>"[0;36m, line [0;32m1[0m
[0;31m    "cell_type": "code",[0m
[0m               ^[0m
[0;31mSyntaxError[0m[0;31m:[0m invalid syntax


In [855]: [0;36m  File [0;32m"<ipython-input-855-2fe249332949>"[0;36m, line [0;32m1[0m
[0;31m    "execution_count": 19,[0m
[0m                     ^[0m
[0;31mSyntaxError[0m[0;31m:[0m invalid syntax


In [856]: [0;36m  File [0;32m"<ipython-input-856-0f9e64771858>"[0;36m, line [0;32m1[0m
[0;31m    "metadata": {},[0m
[0m              ^[0m
[0;31mSyntaxError[0m[0;31m:[0m invalid syntax


In [857]: [0;36m  File [0;32m"<ipython-input-857-b317a7411d2f>"[0;36m, line [0;32m1[0m
[0;31m    "outputs": [[0m
[0m             ^[0m
[0;31mSyntaxError[0m[0;31m:[0m invalid syntax


In [858]: [0;36m  File [0;32m"<ipython-input-858-d9bed3b7e151>"[0;36m, line [0;32m1[0m
[0;31m    {[0m
[0m     ^[0m
[0;31mSyntaxError[0m[0;31m:[0m unexpected EOF while parsing


In [859]: [0;36m  File [0;32m"<ipython-input-859-9f856e71f5fe>"[0;36m, line [0;32m1[0m
[0;31m    "data": {[0m
[0m          ^[0m
[0;31mSyntaxError[0m[0;31m:[0m invalid syntax


In [860]: [0;36m  File [0;32m"<ipython-input-860-d55053482bbb>"[0;36m, line [0;32m1[0m
[0;31m    "image/png": "iVBORw0KGgoAAAANSUhEUgAAAYQAAAEGCAYAAABlxeIAAAAABHNCSVQICAgIfAhkiAAAAAlwSFlz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\nIEiSAANBktQYCJIkwECQJDUGgiQJgH8BEiMssaPSCrIAAAAASUVORK5CYII=\n",[0m
[0m               ^[0m
[0;31mSyntaxError[0m[0;31m:[0m invalid syntax


In [861]: [0;36m  File [0;32m"<ipython-input-861-eab4b261d908>"[0;36m, line [0;32m1[0m
[0;31m    "text/plain": [[0m
[0m                ^[0m
[0;31mSyntaxError[0m[0;31m:[0m invalid syntax


In [862]: Out[862]: '<matplotlib.figure.Figure at 0x115158310>'

In [863]: [0;36m  File [0;32m"<ipython-input-863-f75d1ecd2fcd>"[0;36m, line [0;32m1[0m
[0;31m    ][0m
[0m    ^[0m
[0;31mSyntaxError[0m[0;31m:[0m invalid syntax


In [864]: [0;36m  File [0;32m"<ipython-input-864-ac0737f6bd75>"[0;36m, line [0;32m1[0m
[0;31m    },[0m
[0m    ^[0m
[0;31mSyntaxError[0m[0;31m:[0m invalid syntax


In [865]: [0;36m  File [0;32m"<ipython-input-865-0f9e64771858>"[0;36m, line [0;32m1[0m
[0;31m    "metadata": {},[0m
[0m              ^[0m
[0;31mSyntaxError[0m[0;31m:[0m invalid syntax


In [866]: [0;36m  File [0;32m"<ipython-input-866-cdf582797161>"[0;36m, line [0;32m1[0m
[0;31m    "output_type": "display_data"[0m
[0m                 ^[0m
[0;31mSyntaxError[0m[0;31m:[0m invalid syntax


In [867]: [0;36m  File [0;32m"<ipython-input-867-7d9d25f71cb8>"[0;36m, line [0;32m1[0m
[0;31m    }[0m
[0m    ^[0m
[0;31mSyntaxError[0m[0;31m:[0m invalid syntax


In [868]: [0;36m  File [0;32m"<ipython-input-868-27fc3ba6872a>"[0;36m, line [0;32m1[0m
[0;31m    ],[0m
[0m    ^[0m
[0;31mSyntaxError[0m[0;31m:[0m invalid syntax


In [869]: [0;36m  File [0;32m"<ipython-input-869-1379479f1eba>"[0;36m, line [0;32m1[0m
[0;31m    "source": [[0m
[0m            ^[0m
[0;31mSyntaxError[0m[0;31m:[0m invalid syntax


In [870]: Out[870]: ('fig = plt.figure(figsize=(5.5, 3.75))\n',)

In [871]: Out[871]: ("plt.plot(e_grid, nutau_total, ls='-', lw=2, color='black', alpha=0.6, label='total')\n",)

In [872]: Out[872]: ('plt.plot(e_grid, nutau_obs["tau decay"], ls=\'-\', lw=1.5, color=\'darkblue\', label=r\'$\\tau$\')\n',)

In [873]: Out[873]: ("plt.plot(e_grid, nutau_obs['$D^\\\\pm + D^0$'], ls='-', lw=1.5, color='orange', label=r'$D^\\pm, D^0$')\n",)

In [874]: Out[874]: ("plt.plot(e_grid, nutau_obs['$D_s$'], ls='-', lw=1.5, color='cyan', label=r'$D_s$')\n",)

In [875]: Out[875]: ('\n',)

In [876]: Out[876]: ('\n',)

In [877]: Out[877]: ('plt.loglog()\n',)

In [878]: Out[878]: ('plt.xlabel(r"$E_{\\nu_{\\tau}}$ [GeV]")\n',)

In [879]: Out[879]: ('plt.ylabel(r"$\\Phi_{\\nu_{\\tau}}$ (E/GeV)$^{" + str(mag) + "}$ [cm$^{2}$ s sr GeV]$^{-1}$")\n',)

In [880]: Out[880]: ('plt.xlim([50, 1e9])\n',)

In [881]: Out[881]: ('plt.ylim([1e-9, 1e-2])\n',)

In [882]: Out[882]: ('plt.legend(loc=1, frameon=False, numpoints=1, ncol=2)\n',)

In [883]: Out[883]: ('plt.tight_layout()\n',)

In [884]: Out[884]: "# plt.savefig('')"

In [885]: [0;36m  File [0;32m"<ipython-input-885-f75d1ecd2fcd>"[0;36m, line [0;32m1[0m
[0;31m    ][0m
[0m    ^[0m
[0;31mSyntaxError[0m[0;31m:[0m invalid syntax


In [886]: [0;36m  File [0;32m"<ipython-input-886-ac0737f6bd75>"[0;36m, line [0;32m1[0m
[0;31m    },[0m
[0m    ^[0m
[0;31mSyntaxError[0m[0;31m:[0m invalid syntax


In [887]: [0;36m  File [0;32m"<ipython-input-887-d9bed3b7e151>"[0;36m, line [0;32m1[0m
[0;31m    {[0m
[0m     ^[0m
[0;31mSyntaxError[0m[0;31m:[0m unexpected EOF while parsing


In [888]: [0;36m  File [0;32m"<ipython-input-888-eb187baea13f>"[0;36m, line [0;32m1[0m
[0;31m    "cell_type": "code",[0m
[0m               ^[0m
[0;31mSyntaxError[0m[0;31m:[0m invalid syntax


In [889]: [0;36m  File [0;32m"<ipython-input-889-4fcc00f1b063>"[0;36m, line [0;32m1[0m
[0;31m    "execution_count": null,[0m
[0m                     ^[0m
[0;31mSyntaxError[0m[0;31m:[0m invalid syntax


In [890]: [0;36m  File [0;32m"<ipython-input-890-08afc63cd5df>"[0;36m, line [0;32m1[0m
[0;31m    "metadata": {[0m
[0m              ^[0m
[0;31mSyntaxError[0m[0;31m:[0m invalid syntax


In [891]: [0;36m  File [0;32m"<ipython-input-891-cb3f48315de0>"[0;36m, line [0;32m1[0m
[0;31m    "collapsed": true[0m
[0m               ^[0m
[0;31mSyntaxError[0m[0;31m:[0m invalid syntax


In [892]: [0;36m  File [0;32m"<ipython-input-892-ac0737f6bd75>"[0;36m, line [0;32m1[0m
[0;31m    },[0m
[0m    ^[0m
[0;31mSyntaxError[0m[0;31m:[0m invalid syntax


In [893]: [0;36m  File [0;32m"<ipython-input-893-f4582426444f>"[0;36m, line [0;32m1[0m
[0;31m    "outputs": [],[0m
[0m             ^[0m
[0;31mSyntaxError[0m[0;31m:[0m invalid syntax


In [894]: [0;36m  File [0;32m"<ipython-input-894-1379479f1eba>"[0;36m, line [0;32m1[0m
[0;31m    "source": [[0m
[0m            ^[0m
[0;31mSyntaxError[0m[0;31m:[0m invalid syntax


In [895]: Out[895]: ('res_groups_unfl = [\n',)

In [896]: Out[896]: ('    (["eta","eta*"],r"$\\eta + \\eta\'$"),\n',)

In [897]: Out[897]: ('    (["omega"],r"$\\omega$"),\n',)

In [898]: Out[898]: ('    (["phi"],r"$\\phi$"),\n',)

In [899]: Out[899]: ('    (["pi0"],r"$\\pi^0$"),\n',)

In [900]: Out[900]: ('    (["rho+", "rho-"],r"$\\rho^\\pm$"), \n',)

In [901]: Out[901]: ('    (["rho0"],r"$\\rho^0$"),\n',)

In [902]: Out[902]: ('    (["etaC"],r"$\\eta_C$"),\n',)

In [903]: Out[903]: ('    (["jpsi"],r"$J/\\Psi$")]\n',)

In [904]: Out[904]: ('\n',)

In [905]: Out[905]: ('mag = 3\n',)

In [906]: Out[906]: ('mu_unfl = {}\n',)

In [907]: Out[907]: ('numu_unfl = {}\n',)

In [908]: Out[908]: ('nue_unfl = {}\n',)

In [909]: Out[909]: ('nutau_unfl = {}\n',)

In [910]: Out[910]: ('for res_group, res_title in res_groups_unfl:\n',)

In [911]: Out[911]: ('    mceq_run.set_obs_particles(res_group)\n',)

In [912]: Out[912]: ('    mceq_run.solve()\n',)

In [913]: Out[913]: ("    mu_unfl[res_title] = mceq_run.get_solution('obs_mu+', mag) + \\\n",)

In [914]: Out[914]: ("                        mceq_run.get_solution('obs_mu-', mag)\n",)

In [915]: Out[915]: ("    numu_unfl[res_title] = mceq_run.get_solution('obs_numu', mag) + \\\n",)

In [916]: Out[916]: ("                          mceq_run.get_solution('obs_antinumu', mag)\n",)

In [917]: Out[917]: ("    nue_unfl[res_title] = mceq_run.get_solution('obs_nue', mag) + \\\n",)

In [918]: Out[918]: ("                         mceq_run.get_solution('obs_antinue', mag)\n",)

In [919]: Out[919]: ("    nutau_unfl[res_title] = mceq_run.get_solution('obs_nutau', mag) + \\\n",)

In [920]: Out[920]: "                           mceq_run.get_solution('obs_antinutau', mag)"

In [921]: [0;36m  File [0;32m"<ipython-input-921-f75d1ecd2fcd>"[0;36m, line [0;32m1[0m
[0;31m    ][0m
[0m    ^[0m
[0;31mSyntaxError[0m[0;31m:[0m invalid syntax


In [922]: [0;36m  File [0;32m"<ipython-input-922-ac0737f6bd75>"[0;36m, line [0;32m1[0m
[0;31m    },[0m
[0m    ^[0m
[0;31mSyntaxError[0m[0;31m:[0m invalid syntax


In [923]: [0;36m  File [0;32m"<ipython-input-923-d9bed3b7e151>"[0;36m, line [0;32m1[0m
[0;31m    {[0m
[0m     ^[0m
[0;31mSyntaxError[0m[0;31m:[0m unexpected EOF while parsing


In [924]: [0;36m  File [0;32m"<ipython-input-924-eb187baea13f>"[0;36m, line [0;32m1[0m
[0;31m    "cell_type": "code",[0m
[0m               ^[0m
[0;31mSyntaxError[0m[0;31m:[0m invalid syntax


In [925]: [0;36m  File [0;32m"<ipython-input-925-ab7b0b7eb537>"[0;36m, line [0;32m1[0m
[0;31m    "execution_count": 20,[0m
[0m                     ^[0m
[0;31mSyntaxError[0m[0;31m:[0m invalid syntax


In [926]: [0;36m  File [0;32m"<ipython-input-926-0f9e64771858>"[0;36m, line [0;32m1[0m
[0;31m    "metadata": {},[0m
[0m              ^[0m
[0;31mSyntaxError[0m[0;31m:[0m invalid syntax


In [927]: [0;36m  File [0;32m"<ipython-input-927-b317a7411d2f>"[0;36m, line [0;32m1[0m
[0;31m    "outputs": [[0m
[0m             ^[0m
[0;31mSyntaxError[0m[0;31m:[0m invalid syntax


In [928]: [0;36m  File [0;32m"<ipython-input-928-d9bed3b7e151>"[0;36m, line [0;32m1[0m
[0;31m    {[0m
[0m     ^[0m
[0;31mSyntaxError[0m[0;31m:[0m unexpected EOF while parsing


In [929]: [0;36m  File [0;32m"<ipython-input-929-a54124e205ed>"[0;36m, line [0;32m1[0m
[0;31m    "ename": "NameError",[0m
[0m           ^[0m
[0;31mSyntaxError[0m[0;31m:[0m invalid syntax


In [930]: [0;36m  File [0;32m"<ipython-input-930-5b3eca090484>"[0;36m, line [0;32m1[0m
[0;31m    "evalue": "name 'mu_unfl' is not defined",[0m
[0m            ^[0m
[0;31mSyntaxError[0m[0;31m:[0m invalid syntax


In [931]: [0;36m  File [0;32m"<ipython-input-931-94b70277a7dd>"[0;36m, line [0;32m1[0m
[0;31m    "output_type": "error",[0m
[0m                 ^[0m
[0;31mSyntaxError[0m[0;31m:[0m invalid syntax


In [932]: [0;36m  File [0;32m"<ipython-input-932-efe267268d74>"[0;36m, line [0;32m1[0m
[0;31m    "traceback": [[0m
[0m               ^[0m
[0;31mSyntaxError[0m[0;31m:[0m invalid syntax


In [933]: Out[933]: ('\\u001b[0;31m---------------------------------------------------------------------------\\u001b[0m',)

In [934]: Out[934]: ('\\u001b[0;31mNameError\\u001b[0m                                 Traceback (most recent call last)',)

In [935]: Out[935]: ('\\u001b[0;32m<ipython-input-20-4391e6029e6d>\\u001b[0m in \\u001b[0;36m<module>\\u001b[0;34m()\\u001b[0m\n\\u001b[1;32m      1\\u001b[0m \\u001b[0mfig\\u001b[0m \\u001b[0;34m=\\u001b[0m \\u001b[0mplt\\u001b[0m\\u001b[0;34m.\\u001b[0m\\u001b[0mfigure\\u001b[0m\\u001b[0;34m(\\u001b[0m\\u001b[0mfigsize\\u001b[0m\\u001b[0;34m=\\u001b[0m\\u001b[0;34m(\\u001b[0m\\u001b[0;36m5.5\\u001b[0m\\u001b[0;34m,\\u001b[0m \\u001b[0;36m3.75\\u001b[0m\\u001b[0;34m)\\u001b[0m\\u001b[0;34m)\\u001b[0m\\u001b[0;34m\\u001b[0m\\u001b[0m\n\\u001b[1;32m      2\\u001b[0m \\u001b[0mi\\u001b[0m \\u001b[0;34m=\\u001b[0m \\u001b[0;36m0\\u001b[0m\\u001b[0;34m\\u001b[0m\\u001b[0m\n\\u001b[0;32m----> 3\\u001b[0;31m \\u001b[0;32mfor\\u001b[0m \\u001b[0mkey\\u001b[0m\\u001b[0;34m,\\u001b[0m \\u001b[0mflux\\u001b[0m \\u001b[0;32min\\u001b[0m \\u001b[0mmu_unfl\\u001b[0m\\u001b[0;34m.\\u001b[0m\\u001b[0miteritems\\u001b[0m\\u001b[0;34m(\\u001b[0m\\u001b[0;34m)\\u001b[0m\\u001b[0;34m:\\u001b[0m\\u001b[0;34m\\u001b[0m\\u001b[0m\n\\u001b[0m\\u001b[1;32m      4\\u001b[0m     \\u001b[0;32mif\\u001b[0m \\u001b[0mkey\\u001b[0m \\u001b[0;32min\\u001b[0m \\u001b[0;34m[\\u001b[0m\\u001b[0;34mr"$\\eta_C$"\\u001b[0m\\u001b[0;34m,\\u001b[0m \\u001b[0;34mr"$\\pi^0$"\\u001b[0m\\u001b[0;34m,\\u001b[0m \\u001b[0;34mr"$\\rho^\\pm$"\\u001b[0m\\u001b[0;34m]\\u001b[0m\\u001b[0;34m:\\u001b[0m\\u001b[0;34m\\u001b[0m\\u001b[0m\n\\u001b[1;32m      5\\u001b[0m         \\u001b[0;32mcontinue\\u001b[0m\\u001b[0;34m\\u001b[0m\\u001b[0m\n',)

In [936]: Out[936]: "\\u001b[0;31mNameError\\u001b[0m: name 'mu_unfl' is not defined"

In [937]: [0;36m  File [0;32m"<ipython-input-937-f75d1ecd2fcd>"[0;36m, line [0;32m1[0m
[0;31m    ][0m
[0m    ^[0m
[0;31mSyntaxError[0m[0;31m:[0m invalid syntax


In [938]: [0;36m  File [0;32m"<ipython-input-938-ac0737f6bd75>"[0;36m, line [0;32m1[0m
[0;31m    },[0m
[0m    ^[0m
[0;31mSyntaxError[0m[0;31m:[0m invalid syntax


In [939]: [0;36m  File [0;32m"<ipython-input-939-d9bed3b7e151>"[0;36m, line [0;32m1[0m
[0;31m    {[0m
[0m     ^[0m
[0;31mSyntaxError[0m[0;31m:[0m unexpected EOF while parsing


In [940]: [0;36m  File [0;32m"<ipython-input-940-9f856e71f5fe>"[0;36m, line [0;32m1[0m
[0;31m    "data": {[0m
[0m          ^[0m
[0;31mSyntaxError[0m[0;31m:[0m invalid syntax


In [941]: [0;36m  File [0;32m"<ipython-input-941-eab4b261d908>"[0;36m, line [0;32m1[0m
[0;31m    "text/plain": [[0m
[0m                ^[0m
[0;31mSyntaxError[0m[0;31m:[0m invalid syntax


In [942]: Out[942]: '<matplotlib.figure.Figure at 0x115514410>'

In [943]: [0;36m  File [0;32m"<ipython-input-943-f75d1ecd2fcd>"[0;36m, line [0;32m1[0m
[0;31m    ][0m
[0m    ^[0m
[0;31mSyntaxError[0m[0;31m:[0m invalid syntax


In [944]: [0;36m  File [0;32m"<ipython-input-944-ac0737f6bd75>"[0;36m, line [0;32m1[0m
[0;31m    },[0m
[0m    ^[0m
[0;31mSyntaxError[0m[0;31m:[0m invalid syntax


In [945]: [0;36m  File [0;32m"<ipython-input-945-0f9e64771858>"[0;36m, line [0;32m1[0m
[0;31m    "metadata": {},[0m
[0m              ^[0m
[0;31mSyntaxError[0m[0;31m:[0m invalid syntax


In [946]: [0;36m  File [0;32m"<ipython-input-946-cdf582797161>"[0;36m, line [0;32m1[0m
[0;31m    "output_type": "display_data"[0m
[0m                 ^[0m
[0;31mSyntaxError[0m[0;31m:[0m invalid syntax


In [947]: [0;36m  File [0;32m"<ipython-input-947-7d9d25f71cb8>"[0;36m, line [0;32m1[0m
[0;31m    }[0m
[0m    ^[0m
[0;31mSyntaxError[0m[0;31m:[0m invalid syntax


In [948]: [0;36m  File [0;32m"<ipython-input-948-27fc3ba6872a>"[0;36m, line [0;32m1[0m
[0;31m    ],[0m
[0m    ^[0m
[0;31mSyntaxError[0m[0;31m:[0m invalid syntax


In [949]: [0;36m  File [0;32m"<ipython-input-949-1379479f1eba>"[0;36m, line [0;32m1[0m
[0;31m    "source": [[0m
[0m            ^[0m
[0;31mSyntaxError[0m[0;31m:[0m invalid syntax


In [950]: Out[950]: ('fig = plt.figure(figsize=(5.5, 3.75))\n',)

In [951]: Out[951]: ('i = 0\n',)

In [952]: Out[952]: ('for key, flux in mu_unfl.iteritems():\n',)

In [953]: Out[953]: ('    if key in [r"$\\eta_C$", r"$\\pi^0$", r"$\\rho^\\pm$"]:\n',)

In [954]: Out[954]: ('        continue\n',)

In [955]: Out[955]: ("    plt.plot(e_grid, mu_unfl[key], ls='-', lw=1.5, color=color_spectrum[i], alpha=0.6, label=key)\n",)

In [956]: Out[956]: ('    i+=1\n',)

In [957]: Out[957]: ('# plt.plot(e_grid, nutau_obs["tau decay"], ls=\'-\', lw=1.5, color=\'darkblue\', label=r\'$\\tau$\')\n',)

In [958]: Out[958]: ("# plt.plot(e_grid, nutau_obs['$D^\\\\pm + D^0$'], ls='-', lw=1.5, color='orange', label=r'$D^\\pm, D^0$')\n",)

In [959]: Out[959]: ("# plt.plot(e_grid, nutau_obs['$D_s$'], ls='-', lw=1.5, color='cyan', label=r'$D_s$')\n",)

In [960]: Out[960]: ('\n',)

In [961]: Out[961]: ('\n',)

In [962]: Out[962]: ('plt.loglog()\n',)

In [963]: Out[963]: ('plt.xlabel(r"$E_{\\mu}$ [GeV]")\n',)

In [964]: Out[964]: ('plt.ylabel(r"$\\Phi_{\\mu}$ (E/GeV)$^{" + str(mag) + "}$ [cm$^{2}$ s sr GeV]$^{-1}$")\n',)

In [965]: Out[965]: ('plt.xlim([50, 1e9])\n',)

In [966]: Out[966]: ('plt.ylim([1e-7, 1e-2])\n',)

In [967]: Out[967]: ("plt.legend(loc='upper left', frameon=False, numpoints=1, ncol=2)\n",)

In [968]: Out[968]: ('plt.tight_layout()\n',)

In [969]: Out[969]: "plt.savefig('')"

In [970]: [0;36m  File [0;32m"<ipython-input-970-f75d1ecd2fcd>"[0;36m, line [0;32m1[0m
[0;31m    ][0m
[0m    ^[0m
[0;31mSyntaxError[0m[0;31m:[0m invalid syntax


In [971]: [0;36m  File [0;32m"<ipython-input-971-ac0737f6bd75>"[0;36m, line [0;32m1[0m
[0;31m    },[0m
[0m    ^[0m
[0;31mSyntaxError[0m[0;31m:[0m invalid syntax


In [972]: [0;36m  File [0;32m"<ipython-input-972-d9bed3b7e151>"[0;36m, line [0;32m1[0m
[0;31m    {[0m
[0m     ^[0m
[0;31mSyntaxError[0m[0;31m:[0m unexpected EOF while parsing


In [973]: [0;36m  File [0;32m"<ipython-input-973-eb187baea13f>"[0;36m, line [0;32m1[0m
[0;31m    "cell_type": "code",[0m
[0m               ^[0m
[0;31mSyntaxError[0m[0;31m:[0m invalid syntax


In [974]: [0;36m  File [0;32m"<ipython-input-974-0174cca6c48c>"[0;36m, line [0;32m1[0m
[0;31m    "execution_count": 14,[0m
[0m                     ^[0m
[0;31mSyntaxError[0m[0;31m:[0m invalid syntax


In [975]: [0;36m  File [0;32m"<ipython-input-975-08afc63cd5df>"[0;36m, line [0;32m1[0m
[0;31m    "metadata": {[0m
[0m              ^[0m
[0;31mSyntaxError[0m[0;31m:[0m invalid syntax


In [976]: [0;36m  File [0;32m"<ipython-input-976-cb3f48315de0>"[0;36m, line [0;32m1[0m
[0;31m    "collapsed": true[0m
[0m               ^[0m
[0;31mSyntaxError[0m[0;31m:[0m invalid syntax


In [977]: [0;36m  File [0;32m"<ipython-input-977-ac0737f6bd75>"[0;36m, line [0;32m1[0m
[0;31m    },[0m
[0m    ^[0m
[0;31mSyntaxError[0m[0;31m:[0m invalid syntax


In [978]: [0;36m  File [0;32m"<ipython-input-978-f4582426444f>"[0;36m, line [0;32m1[0m
[0;31m    "outputs": [],[0m
[0m             ^[0m
[0;31mSyntaxError[0m[0;31m:[0m invalid syntax


In [979]: [0;36m  File [0;32m"<ipython-input-979-1379479f1eba>"[0;36m, line [0;32m1[0m
[0;31m    "source": [[0m
[0m            ^[0m
[0;31mSyntaxError[0m[0;31m:[0m invalid syntax


In [980]: Out[980]: ('egrid = mceq_run.e_grid\n',)

In [981]: Out[981]: ('iam_str = mceq_run.iamodel_name\n',)

In [982]: Out[982]: ('plotloc = os.path.join(os.path.expanduser("~"),\'work/Plots/CPC_latest\')\n',)

In [983]: Out[983]: ('from matplotlib import rcParams\n',)

In [984]: Out[984]: ("rcParams['legend.fontsize'] = 'medium'\n",)

In [985]: Out[985]: ('def make_naked(ax):\n',)

In [986]: Out[986]: ("    ax.spines['right'].set_visible(False)\n",)

In [987]: Out[987]: ("    ax.spines['top'].set_visible(False)\n",)

In [988]: Out[988]: ("    ax.xaxis.set_ticks_position('bottom')\n",)

In [989]: Out[989]: ('    ax.yaxis.tick_left()\n',)

In [990]: Out[990]: ('    \n',)

In [991]: Out[991]: ('def save(plotname):\n',)

In [992]: Out[992]: ("    plt.savefig(os.path.join(plotloc,plotname + '.pdf'))\n",)

In [993]: Out[993]: "    plt.savefig(os.path.join(plotloc,plotname + '.png'),dpi=300,transparent=True)"

In [994]: [0;36m  File [0;32m"<ipython-input-994-f75d1ecd2fcd>"[0;36m, line [0;32m1[0m
[0;31m    ][0m
[0m    ^[0m
[0;31mSyntaxError[0m[0;31m:[0m invalid syntax


In [995]: [0;36m  File [0;32m"<ipython-input-995-ac0737f6bd75>"[0;36m, line [0;32m1[0m
[0;31m    },[0m
[0m    ^[0m
[0;31mSyntaxError[0m[0;31m:[0m invalid syntax


In [996]: [0;36m  File [0;32m"<ipython-input-996-d9bed3b7e151>"[0;36m, line [0;32m1[0m
[0;31m    {[0m
[0m     ^[0m
[0;31mSyntaxError[0m[0;31m:[0m unexpected EOF while parsing


In [997]: [0;36m  File [0;32m"<ipython-input-997-eb187baea13f>"[0;36m, line [0;32m1[0m
[0;31m    "cell_type": "code",[0m
[0m               ^[0m
[0;31mSyntaxError[0m[0;31m:[0m invalid syntax


In [998]: [0;36m  File [0;32m"<ipython-input-998-4fcc00f1b063>"[0;36m, line [0;32m1[0m
[0;31m    "execution_count": null,[0m
[0m                     ^[0m
[0;31mSyntaxError[0m[0;31m:[0m invalid syntax


In [999]: [0;36m  File [0;32m"<ipython-input-999-08afc63cd5df>"[0;36m, line [0;32m1[0m
[0;31m    "metadata": {[0m
[0m              ^[0m
[0;31mSyntaxError[0m[0;31m:[0m invalid syntax


In [1000]: [0;36m  File [0;32m"<ipython-input-1000-cb3f48315de0>"[0;36m, line [0;32m1[0m
[0;31m    "collapsed": true[0m
[0m               ^[0m
[0;31mSyntaxError[0m[0;31m:[0m invalid syntax


In [1001]: [0;36m  File [0;32m"<ipython-input-1001-ac0737f6bd75>"[0;36m, line [0;32m1[0m
[0;31m    },[0m
[0m    ^[0m
[0;31mSyntaxError[0m[0;31m:[0m invalid syntax


In [1002]: [0;36m  File [0;32m"<ipython-input-1002-f4582426444f>"[0;36m, line [0;32m1[0m
[0;31m    "outputs": [],[0m
[0m             ^[0m
[0;31mSyntaxError[0m[0;31m:[0m invalid syntax


In [1003]: [0;36m  File [0;32m"<ipython-input-1003-4d74ee03a853>"[0;36m, line [0;32m1[0m
[0;31m    "source": [][0m
[0m            ^[0m
[0;31mSyntaxError[0m[0;31m:[0m invalid syntax


In [1004]: [0;36m  File [0;32m"<ipython-input-1004-7d9d25f71cb8>"[0;36m, line [0;32m1[0m
[0;31m    }[0m
[0m    ^[0m
[0;31mSyntaxError[0m[0;31m:[0m invalid syntax


In [1005]: [0;36m  File [0;32m"<ipython-input-1005-27fc3ba6872a>"[0;36m, line [0;32m1[0m
[0;31m    ],[0m
[0m    ^[0m
[0;31mSyntaxError[0m[0;31m:[0m invalid syntax


In [1006]: [0;36m  File [0;32m"<ipython-input-1006-08afc63cd5df>"[0;36m, line [0;32m1[0m
[0;31m    "metadata": {[0m
[0m              ^[0m
[0;31mSyntaxError[0m[0;31m:[0m invalid syntax


In [1007]: [0;36m  File [0;32m"<ipython-input-1007-894e217b2ac0>"[0;36m, line [0;32m1[0m
[0;31m    "anaconda-cloud": {},[0m
[0m                    ^[0m
[0;31mSyntaxError[0m[0;31m:[0m invalid syntax


In [1008]: [0;36m  File [0;32m"<ipython-input-1008-02402dfc4dfe>"[0;36m, line [0;32m1[0m
[0;31m    "kernelspec": {[0m
[0m                ^[0m
[0;31mSyntaxError[0m[0;31m:[0m invalid syntax


In [1009]: [0;36m  File [0;32m"<ipython-input-1009-97459d77ff3f>"[0;36m, line [0;32m1[0m
[0;31m    "display_name": "Python 2",[0m
[0m                  ^[0m
[0;31mSyntaxError[0m[0;31m:[0m invalid syntax


In [1010]: [0;36m  File [0;32m"<ipython-input-1010-c13b42c569cf>"[0;36m, line [0;32m1[0m
[0;31m    "language": "python",[0m
[0m              ^[0m
[0;31mSyntaxError[0m[0;31m:[0m invalid syntax


In [1011]: [0;36m  File [0;32m"<ipython-input-1011-a1a77dbe2ba1>"[0;36m, line [0;32m1[0m
[0;31m    "name": "python2"[0m
[0m          ^[0m
[0;31mSyntaxError[0m[0;31m:[0m invalid syntax


In [1012]: [0;36m  File [0;32m"<ipython-input-1012-ac0737f6bd75>"[0;36m, line [0;32m1[0m
[0;31m    },[0m
[0m    ^[0m
[0;31mSyntaxError[0m[0;31m:[0m invalid syntax


In [1013]: [0;36m  File [0;32m"<ipython-input-1013-fd8ee08eb5b2>"[0;36m, line [0;32m1[0m
[0;31m    "language_info": {[0m
[0m                   ^[0m
[0;31mSyntaxError[0m[0;31m:[0m invalid syntax


In [1014]: [0;36m  File [0;32m"<ipython-input-1014-646ed3af4140>"[0;36m, line [0;32m1[0m
[0;31m    "codemirror_mode": {[0m
[0m                     ^[0m
[0;31mSyntaxError[0m[0;31m:[0m invalid syntax


In [1015]: [0;36m  File [0;32m"<ipython-input-1015-b1402e9e8d2c>"[0;36m, line [0;32m1[0m
[0;31m    "name": "ipython",[0m
[0m          ^[0m
[0;31mSyntaxError[0m[0;31m:[0m invalid syntax


In [1016]: [0;36m  File [0;32m"<ipython-input-1016-62f8e050eb88>"[0;36m, line [0;32m1[0m
[0;31m    "version": 2[0m
[0m             ^[0m
[0;31mSyntaxError[0m[0;31m:[0m invalid syntax


In [1017]: [0;36m  File [0;32m"<ipython-input-1017-ac0737f6bd75>"[0;36m, line [0;32m1[0m
[0;31m    },[0m
[0m    ^[0m
[0;31mSyntaxError[0m[0;31m:[0m invalid syntax


In [1018]: [0;36m  File [0;32m"<ipython-input-1018-bcb3ec6baa94>"[0;36m, line [0;32m1[0m
[0;31m    "file_extension": ".py",[0m
[0m                    ^[0m
[0;31mSyntaxError[0m[0;31m:[0m invalid syntax


In [1019]: [0;36m  File [0;32m"<ipython-input-1019-a4fdaa5c848f>"[0;36m, line [0;32m1[0m
[0;31m    "mimetype": "text/x-python",[0m
[0m              ^[0m
[0;31mSyntaxError[0m[0;31m:[0m invalid syntax


In [1020]: [0;36m  File [0;32m"<ipython-input-1020-6675873166d5>"[0;36m, line [0;32m1[0m
[0;31m    "name": "python",[0m
[0m          ^[0m
[0;31mSyntaxError[0m[0;31m:[0m invalid syntax


In [1021]: [0;36m  File [0;32m"<ipython-input-1021-28ae8c3a5f2b>"[0;36m, line [0;32m1[0m
[0;31m    "nbconvert_exporter": "python",[0m
[0m                        ^[0m
[0;31mSyntaxError[0m[0;31m:[0m invalid syntax


In [1022]: [0;36m  File [0;32m"<ipython-input-1022-d796fa083188>"[0;36m, line [0;32m1[0m
[0;31m    "pygments_lexer": "ipython2",[0m
[0m                    ^[0m
[0;31mSyntaxError[0m[0;31m:[0m invalid syntax


In [1023]: [0;36m  File [0;32m"<ipython-input-1023-770115b9385d>"[0;36m, line [0;32m1[0m
[0;31m    "version": "2.7.13"[0m
[0m             ^[0m
[0;31mSyntaxError[0m[0;31m:[0m invalid syntax


In [1024]: [0;36m  File [0;32m"<ipython-input-1024-7d9d25f71cb8>"[0;36m, line [0;32m1[0m
[0;31m    }[0m
[0m    ^[0m
[0;31mSyntaxError[0m[0;31m:[0m invalid syntax


In [1025]: [0;36m  File [0;32m"<ipython-input-1025-ac0737f6bd75>"[0;36m, line [0;32m1[0m
[0;31m    },[0m
[0m    ^[0m
[0;31mSyntaxError[0m[0;31m:[0m invalid syntax


In [1026]: [0;36m  File [0;32m"<ipython-input-1026-7757cafbc23b>"[0;36m, line [0;32m1[0m
[0;31m    "nbformat": 4,[0m
[0m              ^[0m
[0;31mSyntaxError[0m[0;31m:[0m invalid syntax


In [1027]: [0;36m  File [0;32m"<ipython-input-1027-d2836fb9a4bc>"[0;36m, line [0;32m1[0m
[0;31m    "nbformat_minor": 1[0m
[0m                    ^[0m
[0;31mSyntaxError[0m[0;31m:[0m invalid syntax


In [1028]: [0;36m  File [0;32m"<ipython-input-1028-7d9d25f71cb8>"[0;36m, line [0;32m1[0m
[0;31m    }[0m
[0m    ^[0m
[0;31mSyntaxError[0m[0;31m:[0m invalid syntax


In [1029]: Do you really want to exit ([y]/n)? 
